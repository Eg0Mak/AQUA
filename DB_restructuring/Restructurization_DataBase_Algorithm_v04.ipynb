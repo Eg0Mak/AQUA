{
  "cells": [
    {
      "cell_type": "markdown",
      "source": [
        "## Идея\n",
        "\n",
        "Идея бенчмарка и реструктуризации базы данных такая:\n",
        "К нам поступают запросы, их много и все они разные, нам надо оценить насколько они производительны, куда чаще всего обращаются пользователи, сюда относятся вопросы партиционрования таблиц, выделения временных таблиц и перестройка структуры базы данных.\n",
        "\n",
        "Основная цель, быстро принимать и отдавать данные, при этом надо соблюсти минимальное представление по нагруженности линий передачи данных и сформировать быстрый и легкий иструмент.\n",
        "\n",
        "Предлагается получать SQL запросы и оценивать их по нескольким параметрам (см. ниже), далее, так как запросы приходят у нас по времени можно рассматривать их как временной ряд (многомерный). По оси Х у вас будут временные метки, по оси Y параметры вашего запроса (их можно получить из SQL Trino, он оценивает работу SQL запроса по 150 параметрам). То есть осей Y у вас будет много.\n",
        "\n",
        "Далее, переводим SQL запросы с временными метками и параметрами во временной ряд и строим по этом ряду граф. Затем оценивая этот граф (метрики по нему смотрит ниже) ищем \"ботлнеки\" и далее определяем на каком запросе что у нас тормозится и перестраиваем структуру нашей базы данных.\n",
        "\n",
        "Ниже приведен код по получению временного ряда и построению по нему графа. Таким образом, оценивая такой граф мы в динамическом режиме видим как работает наша база данных по запросам.\n",
        "\n",
        "При этом можно даже не собирать логи, так как все происходит в режиме реалтайма (можно также собирать для статистики). Вершины графа это SQL запросы с параметрами, ребра это связи между запросами. По SQL запросам можно восстановить структуру базы даных.\n",
        "\n",
        "В тестовом варианте мы представили временные промежутки длинные, но их можно изменить на любые вплоть до 1 сек или 1 мкр. сек. Поддерживается самый широкий диапазон тайминга. Если два или более запроса приходят одновременно ставится метка, также можно просматривать логи от отдельного пользователя, то есть его запросы.\n"
      ],
      "metadata": {
        "id": "ab9J8GLm43zg"
      }
    },
    {
      "cell_type": "markdown",
      "source": [
        "----------------------------"
      ],
      "metadata": {
        "id": "rZRlvFojLFaM"
      }
    },
    {
      "cell_type": "markdown",
      "source": [
        "## Параметры SQL запроса (таблица №1):\n",
        "\n",
        "- Время выполнения (Execution Time): Измеряется время, затраченное на полное выполнение запроса, включая этапы планирования, обработки и вывода результата.\n",
        "\n",
        "- План запроса (Query Plan): Структура плана исполнения запроса помогает понять, как база данных решает выполнить запрос (использует ли индекс, какой тип соединения применяется и т.д.).\n",
        "\n",
        "- Используемые индексы (Indexes Used): Проверка, используются ли индексы для ускорения операций чтения и фильтрации.\n",
        "\n",
        "- Объем обработанных данных (Rows Scanned / Rows Examined): Сколько строк было фактически проверено базой данных перед выдачей результата.\n",
        "\n",
        "- Эффективность сортировки (Sort Operations): Оценка количества операций сортировки и их влияние на общую производительность.\n",
        "\n",
        "- Количества соединений (Joins): Анализ того, сколько таблиц участвует в соединениях и насколько эффективны используемые методы соединения.\n",
        "\n",
        "- Загрузка ресурсов сервера (CPU, Memory Usage): Мониторинг нагрузки на процессор и память, вызванной выполнением запроса.\n",
        "\n",
        "- Операции ввода-вывода (Disk I/O): Определение объема дисковых операций, необходимых для выполнения запроса.\n",
        "\n",
        "- Занимаемая транзакционная нагрузка (Locks Acquired): Общее количество заблокированных объектов (таблиц, строк) и продолжительность блокировки.\n",
        "\n",
        "- Параметр использования памяти (Memory Consumption): Объем оперативной памяти, потребляемый процессом выполнения запроса.\n",
        "\n",
        "- Тип операции (Operation Type): Является ли запрос простым выбором данных (SELECT), изменением данных (INSERT, UPDATE, DELETE) или сложной комбинацией операций.\n",
        "\n",
        "- Количество используемых сессий (Sessions Involved): Если запрос запускается параллельно несколькими пользователями или сеансами, можно измерить нагрузку на систему от параллельных подключений.\n",
        "\n",
        "- Процент использования кеширования (Cache Hit Ratio): Насколько сильно используется кэшированный результат предыдущего выполнения запроса.\n",
        "\n",
        "    - EXPLAIN PLAN (PostgreSQL, MySQL, Oracle) — даёт подробный план выполнения запроса.\n",
        "    - SHOW PROFILE (MySQL) — отображает детальные профилирование запросов.\n",
        "    - SET STATISTICS TIME ON (PostgreSQL) — включает вывод статистики времени выполнения.\n",
        "    - DBMS_MONITOR (Oracle) — средство мониторинга работы базы данных.\n",
        "\n",
        "- Оптимальность SQL-кода (Query Optimization): Оценка степени оптимизации запроса путем проверки наличия избыточных операций, ненужных объединений (JOIN), неоптимальных условий фильтрации (WHERE) и порядка выполнения операций.\n",
        "\n",
        "- Отсутствие избыточных вычислений (Redundant Calculations): Определение, присутствуют ли повторяющиеся или лишние расчеты внутри запроса, которые снижают эффективность.\n",
        "\n",
        "- Степень параллельности (Parallel Execution Degree): Некоторые СУБД поддерживают параллельное выполнение запросов. Оценка уровня параллелизма может показать возможности повышения производительности за счёт распараллеливания.\n",
        "\n",
        "- Использование временных таблиц (Temporary Tables Usage): Использование промежуточных временных таблиц может снизить накладные расходы на последующие операции, однако оно также увеличивает потребление ресурсов.\n",
        "\n",
        "- Нагрузка на буферный пул (Buffer Pool Load): Мониторинг размера буферного пула и частоты попадания данных в кэш. Высокая частота попаданий снижает потребность в операциях ввода-вывода.\n",
        "\n",
        "- Регулярность выполнения (Frequency of Execution): Частое выполнение одних и тех же запросов или однотипных запросов может повлиять на общий профиль нагрузки на базу данных.\n",
        "\n",
        "- Совместимость типов данных (Data Type Compatibility): Несоответствие типов данных между полями может привести к дополнительным преобразованиям и снижению производительности.\n",
        "\n",
        "- Разбиение результатов (Result Partitioning): Применение механизма разбиения больших объемов данных на меньшие части (PARTITIONING) может значительно повысить производительность сложных запросов.\n",
        "\n",
        "- Детали использования дисков (Disk Space Utilization): Размер файлов журналов и временных файлов, создаваемых запросом, может стать индикатором ресурсоемкости операции.\n",
        "\n",
        "- Обработка транзакций (Transaction Handling): Особенности обработки транзакций (автономные, вложенные, откаты) влияют на производительность отдельных запросов и всей системы в целом."
      ],
      "metadata": {
        "id": "QBc13U45_zKx"
      }
    },
    {
      "cell_type": "markdown",
      "source": [
        "-----------------------------"
      ],
      "metadata": {
        "id": "gmIcq80EBlqJ"
      }
    },
    {
      "cell_type": "code",
      "execution_count": 52,
      "metadata": {
        "id": "13GuHDCsZEBy"
      },
      "outputs": [],
      "source": [
        "!pip install torch-geometric >> None\n",
        "!pip install igraph >> None\n",
        "!pip install optuna >> None\n",
        "!pip install odfpy >> None\n",
        "!pip install python-igraph >> None"
      ]
    },
    {
      "cell_type": "code",
      "execution_count": 53,
      "metadata": {
        "id": "yAk75MwmZFxU"
      },
      "outputs": [],
      "source": [
        "import torch\n",
        "import torch.nn as nn\n",
        "import torch.nn.functional as F\n",
        "import torch_geometric\n",
        "from torch_geometric.nn import GCNConv, GATConv\n",
        "from torch_geometric.datasets import Planetoid\n",
        "from torch_geometric.data import Data\n",
        "from torch_geometric.loader import DataLoader\n",
        "from sklearn.manifold import TSNE\n",
        "from scipy.spatial import Delaunay\n",
        "import pandas as pd\n",
        "import igraph as ig\n",
        "import numpy as np\n",
        "import networkx as nx\n",
        "import matplotlib.pyplot as plt\n",
        "import random\n",
        "import warnings\n",
        "from sklearn.preprocessing import StandardScaler\n",
        "from IPython.display import display\n",
        "import optuna\n",
        "import networkx as nx\n",
        "import igraph as ig\n",
        "\n",
        "import matplotlib.pyplot as plt\n",
        "import networkx as nx\n",
        "from scipy.spatial.distance import euclidean\n",
        "import numpy as np\n",
        "from math import atan2, degrees, pi\n",
        "from scipy.stats import pearsonr\n",
        "from scipy.spatial import ConvexHull\n",
        "\n",
        "warnings.filterwarnings('ignore')"
      ]
    },
    {
      "cell_type": "markdown",
      "source": [
        "Каждый тикер представляет собой таблицу в базе данных, на каждую таблицу приходят запросы с параметрами. Мы оцениваем эти пареметры, например, колличество строк в запросе (можно любые другие параметры которые указаны выше в таблице №1) и ставим метку, так фомируем временной ряд где по оси X отложено значение времени, по оси Y суммарный показатель параметра.\n",
        "\n",
        "то есть,  \n",
        "\n",
        "-----------------------\n",
        "id_запроса: 1       \n",
        "\n",
        "Текст_запроса:\n",
        "SELECT user_id, COUNT(*) AS orders_count  6\n",
        "FROM orders\n",
        "WHERE order_date >= '2025-01-01'\n",
        "GROUP BY user_id\n",
        "ORDER BY orders_count DESC;\n",
        "\n",
        "Колличество_строк: 5\n",
        "\n",
        "-----------------------\n",
        "id_запроса: 2\n",
        "\n",
        "Текст_запроса:\n",
        "INSERT INTO products (product_name, price, category)\n",
        "VALUES ('Smartphone', 699.99, 'Electronics');\n",
        "\n",
        "Колличество_строк: 2\n",
        "\n",
        "-----------------------\n",
        "id_запроса: 3\n",
        "\n",
        "UPDATE employees\n",
        "SET salary = salary * 1.1\n",
        "WHERE department = 'Sales' AND hire_date < '2020-01-01';\n",
        "\n",
        "Колличество_строк: 3\n",
        "\n",
        "-----------------------\n",
        "\n",
        "            \n"
      ],
      "metadata": {
        "id": "MQEicFQbKEjR"
      }
    },
    {
      "cell_type": "code",
      "source": [
        "# Пример: Оценка параметров графа\n",
        "# Используемые индексы (Indexes Used): Проверка, используются ли индексы для ускорения операций чтения и фильтрации.\n",
        "\n",
        "import psycopg2\n",
        "\n",
        "def check_indexes(db_conn_params, table_name):\n",
        "    conn = None\n",
        "    try:\n",
        "        conn = psycopg2.connect(**db_conn_params)\n",
        "\n",
        "        with conn.cursor() as cur:\n",
        "            sql_query = \"\"\"\n",
        "                SELECT i.relname AS index_name\n",
        "                FROM pg_class t\n",
        "                JOIN pg_index ix ON t.oid = ix.indrelid\n",
        "                JOIN pg_class i ON i.oid = ix.indexrelid\n",
        "                WHERE t.relkind = 'r' AND t.relname = %s\n",
        "            \"\"\"\n",
        "\n",
        "            cur.execute(sql_query, (table_name,))\n",
        "            indexes = cur.fetchall()\n",
        "\n",
        "            if len(indexes) > 0:\n",
        "                print(f\"В таблице {table_name} найдены индексы:\")\n",
        "                for idx in indexes:\n",
        "                    print(idx[0])\n",
        "            else:\n",
        "                print(f\"В таблице {table_name} отсутствуют индексы.\")\n",
        "\n",
        "    except Exception as e:\n",
        "        print(\"Ошибка:\", str(e))\n",
        "    finally:\n",
        "        if conn is not None:\n",
        "            conn.close()\n",
        "\n",
        "check_indexes({'dbname': 'mydatabase', 'user': 'postgres'}, 'users')"
      ],
      "metadata": {
        "id": "rvbIdqHCFEQh",
        "colab": {
          "base_uri": "https://localhost:8080/"
        },
        "outputId": "6b26023c-b7b7-4765-b32d-33e08098ccec"
      },
      "execution_count": 54,
      "outputs": [
        {
          "output_type": "stream",
          "name": "stdout",
          "text": [
            "Ошибка: connection to server on socket \"/var/run/postgresql/.s.PGSQL.5432\" failed: No such file or directory\n",
            "\tIs the server running locally and accepting connections on that socket?\n",
            "\n"
          ]
        }
      ]
    },
    {
      "cell_type": "markdown",
      "source": [
        "## Загрузка графа"
      ],
      "metadata": {
        "id": "I0fdjE2QcQdS"
      }
    },
    {
      "cell_type": "code",
      "execution_count": 61,
      "metadata": {
        "id": "O3obfgmdZKOq"
      },
      "outputs": [],
      "source": [
        "tickers = [\"Number_of_Lines\"]"
      ]
    },
    {
      "cell_type": "markdown",
      "source": [
        "Здесь мы делаем специальный алгоритм видимости графа:\n",
        "\n",
        "Функция `visibility_graph` строит граф видимости для временного ряда. Она последовательно проверяет каждую пару точек на наличие прямой видимости друг относительно друга, используя геометрическое условие: точка считается видимой, если ни одна промежуточная точка не находится выше линии, соединяющей рассматриваемые точки. Если условие выполняется, добавляется ребро между этими вершинами графа. Таким образом, полученный граф отражает структуру временных зависимостей и взаимосвязей внутри исходного ряда данных.\n",
        "\n",
        "Каждая точка нашего графа представляет количество строк в отдельных SQL-запросах. Алгоритм построения графа видимости позволяет выявить зависимости и связи между различными запросами по количеству возвращаемых ими строк. Например, если два запроса имеют прямую видимую связь (ребро в графе), это означает, что число строк в одном запросе непосредственно влияет на количество строк другого запроса, либо они оба зависят от общего набора условий выборки. Такой подход помогает анализировать закономерности и паттерны распределения объемов данных, выявлять аномалии или кластеры запросов с похожими характеристиками."
      ],
      "metadata": {
        "id": "hoMEl2PMs_8v"
      }
    },
    {
      "cell_type": "code",
      "execution_count": 62,
      "metadata": {
        "id": "SSTAQXrWZMG1"
      },
      "outputs": [],
      "source": [
        "def visibility_graph(time_series):\n",
        "    n = len(time_series) # колличество_вершин\n",
        "    G = ig.Graph()\n",
        "    G.add_vertices(n)\n",
        "\n",
        "    time_series_np = time_series.to_numpy(dtype=np.float64)\n",
        "\n",
        "    for i in range(n):\n",
        "        for j in range(i + 1, n):\n",
        "            k_values = np.arange(i + 1, j)\n",
        "            visibility_condition = time_series_np[k_values] >= time_series_np[i] + (time_series_np[j] - time_series_np[i]) * (k_values - i) / (j - i)\n",
        "            if not np.any(visibility_condition):\n",
        "                G.add_edge(i, j)\n",
        "    return G"
      ]
    },
    {
      "cell_type": "code",
      "execution_count": 63,
      "metadata": {
        "colab": {
          "base_uri": "https://localhost:8080/"
        },
        "id": "1jIG6wiKZNqV",
        "outputId": "585a23c4-8109-411a-d8a9-5436c719913f"
      },
      "outputs": [
        {
          "output_type": "stream",
          "name": "stdout",
          "text": [
            "Graph Number_of_Lines complited!\n"
          ]
        }
      ],
      "source": [
        "graph=dict()\n",
        "for name in tickers:\n",
        "    data = pd.read_excel(f'/content/{name}.ods', usecols=[1], engine='odf', skipfooter=1400)\n",
        "    #data=pd.read_csv(f'/content/{name}.csv', usecols=[1], skipfooter=1400)\n",
        "    graph[name]=visibility_graph(data)\n",
        "    print(f'Graph {name} complited!')"
      ]
    },
    {
      "cell_type": "code",
      "source": [
        "graph"
      ],
      "metadata": {
        "colab": {
          "base_uri": "https://localhost:8080/"
        },
        "id": "uNQN0_AwRbkY",
        "outputId": "b2889f1e-bc34-465b-92ed-637700c3f780"
      },
      "execution_count": 64,
      "outputs": [
        {
          "output_type": "execute_result",
          "data": {
            "text/plain": [
              "{'Number_of_Lines': <igraph.Graph at 0x7988910c7b50>}"
            ]
          },
          "metadata": {},
          "execution_count": 64
        }
      ]
    },
    {
      "cell_type": "markdown",
      "source": [
        "# Визуализация графа"
      ],
      "metadata": {
        "id": "dbfm6qYE1Obf"
      }
    },
    {
      "cell_type": "code",
      "source": [
        "def plot_beautiful_visibility_graph(G, title=None):\n",
        "    visual_style = {\n",
        "        \"vertex_color\": \"#FFADAD\",     # Цвет вершин (мягкий розовый оттенок)\n",
        "        \"edge_color\": \"#BDE0FE\",       # Цвет рёбер (голубой оттенок)\n",
        "        \"background_color\": \"#1E272E\", # Фон (темно-серый оттенок)\n",
        "        \"vertex_size\": 5,              # Размер вершин\n",
        "        \"edge_width\": 1,               # Толщина рёбер\n",
        "        \"layout\": G.layout_kamada_kawai(),  # Более аккуратное размещение вершин\n",
        "        \"bbox\": (800, 800),            # Увеличенное окно для лучшей детализации\n",
        "        \"margin\": 50                   # Поля вокруг рисунка\n",
        "    }\n",
        "\n",
        "    # Рисование графа\n",
        "    fig, ax = plt.subplots(figsize=(10, 10))  # Больший размер фигуры\n",
        "    ig.plot(G, target=ax, **visual_style)\n",
        "    plt.title(title, color=\"white\")          # Белый цвет заголовка для контраста\n",
        "    plt.axis('off')                           # Скрываем оси координат\n",
        "    plt.show()"
      ],
      "metadata": {
        "id": "9sYWHck71RcF"
      },
      "execution_count": 65,
      "outputs": []
    },
    {
      "cell_type": "code",
      "source": [
        "for name in tickers:\n",
        "    #data = pd.read_csv(f'/content/{name}.csv', usecols=[1],skipfooter=1400)\n",
        "    data = pd.read_excel(f'/content/{name}.ods', usecols=[1], engine='odf')\n",
        "    G = visibility_graph(data)\n",
        "    plot_beautiful_visibility_graph(G, f'Visibility Graph for {name}')\n",
        "    print(f'Graph {name} completed!')"
      ],
      "metadata": {
        "colab": {
          "base_uri": "https://localhost:8080/",
          "height": 847
        },
        "id": "9pE07gu11dFc",
        "outputId": "55354aa7-ddd8-4732-81a6-7800a71f6ad8"
      },
      "execution_count": 66,
      "outputs": [
        {
          "output_type": "display_data",
          "data": {
            "text/plain": [
              "<Figure size 1000x1000 with 1 Axes>"
            ],
            "image/png": "[encoded data removed]"
          },
          "metadata": {}
        },
        {
          "output_type": "stream",
          "name": "stdout",
          "text": [
            "Graph Number_of_Lines completed!\n"
          ]
        }
      ]
    },
    {
      "cell_type": "markdown",
      "source": [
        "Судя по этому графу у нас есть три явные кластера запросов, оценивая параметры этого графа можно сказать, надо пересобирать базу или нет. Ниже эти параметры мы привели."
      ],
      "metadata": {
        "id": "SydHNEh3FcvE"
      }
    },
    {
      "cell_type": "code",
      "source": [
        "# Конвертация_графа_в_другой_формат\n",
        "igraph_G = G\n",
        "nx_G = nx.Graph()\n",
        "for edge in igraph_G.es:\n",
        "    source_vertex_id = edge.source\n",
        "    target_vertex_id = edge.target\n",
        "    nx_G.add_edge(source_vertex_id, target_vertex_id)"
      ],
      "metadata": {
        "id": "WxtL9EqN60mY"
      },
      "execution_count": 67,
      "outputs": []
    },
    {
      "cell_type": "code",
      "source": [
        "# Получаем_координаты_вершин\n",
        "\n",
        "positions = nx.spring_layout(nx_G)\n",
        "for vertex, coord in positions.items():\n",
        "    print(f\"Вершина {vertex}: Координаты ({coord[0]}, {coord[1]})\")"
      ],
      "metadata": {
        "colab": {
          "base_uri": "https://localhost:8080/"
        },
        "id": "HgoWwPc0-LBl",
        "outputId": "60dc0dbd-58c7-4f82-8cbe-1a67d4b6faa3"
      },
      "execution_count": 68,
      "outputs": [
        {
          "output_type": "stream",
          "name": "stdout",
          "text": [
            "Вершина 0: Координаты (-0.23850629819683716, -0.19356881538914583)\n",
            "Вершина 1: Координаты (-0.2535625732973844, -0.2439204476051057)\n",
            "Вершина 2: Координаты (-0.07729796108011713, -0.1887983593753625)\n",
            "Вершина 3: Координаты (0.04553489281205517, -0.2103892961143188)\n",
            "Вершина 4: Координаты (0.13267759461255552, -0.2708428739628017)\n",
            "Вершина 25: Координаты (-0.044937972711442016, -0.02465510629170293)\n",
            "Вершина 5: Координаты (0.26102385382491283, -0.2577827484426534)\n",
            "Вершина 6: Координаты (0.2904244059730313, -0.3151020005989763)\n",
            "Вершина 8: Координаты (0.28385479255201784, -0.39398229025712767)\n",
            "Вершина 13: Координаты (0.2604294932430459, -0.4530036115495568)\n",
            "Вершина 17: Координаты (0.18895378782547304, -0.43640947954043746)\n",
            "Вершина 18: Координаты (0.08533166709921332, -0.3078484695142401)\n",
            "Вершина 7: Координаты (0.3933558079305078, -0.3562128486412234)\n",
            "Вершина 9: Координаты (0.3496780866018565, -0.5009442296774739)\n",
            "Вершина 10: Координаты (0.3966084999266438, -0.506935985441353)\n",
            "Вершина 12: Координаты (0.40922220234087525, -0.47226810222453064)\n",
            "Вершина 11: Координаты (0.5093319571591303, -0.5461408889960301)\n",
            "Вершина 14: Координаты (0.3369161641786332, -0.61284744984217)\n",
            "Вершина 15: Координаты (0.2800665207692662, -0.5609821318865758)\n",
            "Вершина 16: Координаты (0.2360323342292071, -0.5573662135568456)\n",
            "Вершина 19: Координаты (-0.024573633086336383, -0.4275780539856424)\n",
            "Вершина 21: Координаты (-0.05704499518900326, -0.3536067315062286)\n",
            "Вершина 23: Координаты (-0.039441757022234236, -0.21335638980769928)\n",
            "Вершина 20: Координаты (-0.17491479651922, -0.46371496584081656)\n",
            "Вершина 22: Координаты (-0.15808869019909705, -0.2988182465488632)\n",
            "Вершина 24: Координаты (-0.0573133059412481, -0.10140731849635075)\n",
            "Вершина 26: Координаты (-0.12282614467880712, 0.10048209190427475)\n",
            "Вершина 27: Координаты (-0.15794153635669841, 0.07568320398662431)\n",
            "Вершина 28: Координаты (-0.21344815448921062, 0.17823333009672046)\n",
            "Вершина 39: Координаты (-0.14568873202413637, 0.23505037050242084)\n",
            "Вершина 40: Координаты (0.053958695064175694, 0.2228857090368688)\n",
            "Вершина 29: Координаты (-0.3503967595917042, 0.22651223968059137)\n",
            "Вершина 30: Координаты (-0.43486447807469525, 0.21740291633659775)\n",
            "Вершина 34: Координаты (-0.4090333832907779, 0.2801779387749247)\n",
            "Вершина 35: Координаты (-0.2666450088145148, 0.3008400984290077)\n",
            "Вершина 31: Координаты (-0.5914584079901114, 0.18774360874693008)\n",
            "Вершина 32: Координаты (-0.544100597506708, 0.2609811379076588)\n",
            "Вершина 33: Координаты (-0.558618387381323, 0.33767978290217915)\n",
            "Вершина 36: Координаты (-0.19532370094959137, 0.3544948456249523)\n",
            "Вершина 37: Координаты (-0.22133676513319495, 0.3839450187425122)\n",
            "Вершина 38: Координаты (-0.24732973769377806, 0.3563024233539775)\n",
            "Вершина 41: Координаты (0.18692593076768632, 0.32839914250723334)\n",
            "Вершина 42: Координаты (0.20204564899304336, 0.29208654302432235)\n",
            "Вершина 43: Координаты (0.3530414015912567, 0.33964150183633013)\n",
            "Вершина 44: Координаты (0.4131064525258509, 0.4320005563518644)\n",
            "Вершина 45: Координаты (0.5294649340896214, 0.43218567906090705)\n",
            "Вершина 46: Координаты (0.5310054853391963, 0.38175259014912327)\n",
            "Вершина 48: Координаты (0.6334497100926401, 0.4620216946962948)\n",
            "Вершина 56: Координаты (0.5505368961144408, 0.4679069481317846)\n",
            "Вершина 57: Координаты (0.44008364354916957, 0.5139555108549213)\n",
            "Вершина 68: Координаты (0.3899588314369629, 0.31011336602839956)\n",
            "Вершина 69: Координаты (0.16003555573745148, 0.07190735149467008)\n",
            "Вершина 47: Координаты (0.63494191215719, 0.3947126855794784)\n",
            "Вершина 54: Координаты (0.6990740949528085, 0.47109215536624166)\n",
            "Вершина 49: Координаты (0.7568018571953525, 0.5816582043577893)\n",
            "Вершина 50: Координаты (0.7958182013747542, 0.5674955953789095)\n",
            "Вершина 51: Координаты (0.790141567545753, 0.5230190786010264)\n",
            "Вершина 52: Координаты (0.7900952572334401, 0.46442020899143793)\n",
            "Вершина 53: Координаты (0.8682732519167291, 0.477774624863479)\n",
            "Вершина 55: Координаты (0.6746194968142141, 0.5535828316842342)\n",
            "Вершина 58: Координаты (0.38983111675123056, 0.6658831213458308)\n",
            "Вершина 59: Координаты (0.4304728468290302, 0.6909359415796684)\n",
            "Вершина 60: Координаты (0.4444851008804891, 0.6455561442856588)\n",
            "Вершина 61: Координаты (0.5170582025142066, 0.6604767460118869)\n",
            "Вершина 64: Координаты (0.4872173749513531, 0.5213598136285467)\n",
            "Вершина 65: Координаты (0.47576608248501173, 0.3729461134732547)\n",
            "Вершина 62: Координаты (0.5839235411690944, 0.7982218636940727)\n",
            "Вершина 63: Координаты (0.5626389075953452, 0.6992008268260979)\n",
            "Вершина 66: Координаты (0.4917705109223681, 0.2640564668717498)\n",
            "Вершина 67: Координаты (0.5257509829755929, 0.2834382288567522)\n",
            "Вершина 70: Координаты (-0.15580900449078192, -0.28144707414898434)\n",
            "Вершина 71: Координаты (-0.21402700773397426, -0.3971674519564907)\n",
            "Вершина 72: Координаты (-0.1657947723356498, -0.41343287508862797)\n",
            "Вершина 73: Координаты (-0.2148813438322884, -0.4908688649004859)\n",
            "Вершина 75: Координаты (-0.26796881784977333, -0.5125532809540791)\n",
            "Вершина 78: Координаты (-0.2832366631301814, -0.46178006905226576)\n",
            "Вершина 87: Координаты (-0.46130282534825406, -0.2398373200480881)\n",
            "Вершина 74: Координаты (-0.2706425714790487, -0.6513894872372233)\n",
            "Вершина 76: Координаты (-0.3326985824866951, -0.6032314987172211)\n",
            "Вершина 77: Координаты (-0.30702353451339404, -0.6022752058909014)\n",
            "Вершина 79: Координаты (-0.21872676463625745, -0.6197353369811859)\n",
            "Вершина 80: Координаты (-0.19667216840745, -0.5484561790126848)\n",
            "Вершина 83: Координаты (-0.1699855440136316, -0.5751881934397607)\n",
            "Вершина 84: Координаты (-0.3261427229045712, -0.40807470407501667)\n",
            "Вершина 81: Координаты (-0.10592819906551128, -0.6680284506620026)\n",
            "Вершина 82: Координаты (-0.09599588293597527, -0.734934471404809)\n",
            "Вершина 85: Координаты (-0.47501870564193427, -0.36792916988518426)\n",
            "Вершина 86: Координаты (-0.44917691354521755, -0.3375737435719803)\n",
            "Вершина 88: Координаты (-0.7364527819164428, -0.06222840300620391)\n",
            "Вершина 98: Координаты (-0.6865796967355952, -0.012554350568604735)\n",
            "Вершина 89: Координаты (-0.8930461011569744, -0.0539791126055179)\n",
            "Вершина 90: Координаты (-0.9118745827742165, 0.045250138454280726)\n",
            "Вершина 94: Координаты (-0.8632505184693426, 0.08464856929798166)\n",
            "Вершина 91: Координаты (-0.998621763183382, 0.12390330861892064)\n",
            "Вершина 92: Координаты (-0.9695026690034338, 0.14285814165856356)\n",
            "Вершина 93: Координаты (-1.0, 0.08414743699045639)\n",
            "Вершина 95: Координаты (-0.901804258200634, 0.20747070124317452)\n",
            "Вершина 96: Координаты (-0.8120458617309453, 0.12402581727992158)\n",
            "Вершина 97: Координаты (-0.7528315179041601, 0.1126279331990505)\n"
          ]
        }
      ]
    },
    {
      "cell_type": "code",
      "source": [
        "positions[43]"
      ],
      "metadata": {
        "colab": {
          "base_uri": "https://localhost:8080/"
        },
        "id": "bttsouxU-jL9",
        "outputId": "d6a0d0f8-3f49-4b71-92fe-9c1854caab3f"
      },
      "execution_count": 69,
      "outputs": [
        {
          "output_type": "execute_result",
          "data": {
            "text/plain": [
              "array([0.3530414, 0.3396415])"
            ]
          },
          "metadata": {},
          "execution_count": 69
        }
      ]
    },
    {
      "cell_type": "code",
      "source": [
        "nx_G"
      ],
      "metadata": {
        "colab": {
          "base_uri": "https://localhost:8080/"
        },
        "id": "BOS3TgzJ_yLs",
        "outputId": "31ac2941-08d7-4b54-cf8b-c60dbbaca3d1"
      },
      "execution_count": 70,
      "outputs": [
        {
          "output_type": "execute_result",
          "data": {
            "text/plain": [
              "<networkx.classes.graph.Graph at 0x79889248f740>"
            ]
          },
          "metadata": {},
          "execution_count": 70
        }
      ]
    },
    {
      "cell_type": "markdown",
      "source": [
        "## Параметры графа"
      ],
      "metadata": {
        "id": "H7d3a2FP9gZI"
      }
    },
    {
      "cell_type": "code",
      "source": [
        "# 1. Минимальное расстояние между вершинами (Minimum distance between vertices, MDBV)\n",
        "'''\n",
        "Минимальное евклидово расстояние между двумя любыми вершинами. Чем больше этот\n",
        "показатель, тем меньше вероятность наложения вершин.\n",
        "\n",
        "Алгоритм:\n",
        "- Использовать Spring Layout для определения позиций вершин (или загрузить ранее рассчитанные координаты).\n",
        "- Вычислить Евклидовы расстояния между всеми парами вершин.\n",
        "- Найти минимальное среди полученных расстояний.\n",
        "'''\n",
        "\n",
        "def calculate_minimum_distance_between_vertices(graph):\n",
        "    positions = nx.spring_layout(graph, seed=42)\n",
        "\n",
        "    min_dist = float('inf')  # Начальное минимальное расстояние бесконечно большое\n",
        "\n",
        "    # Перебираем все пары вершин и считаем расстояние между ними\n",
        "    for u in graph.nodes():\n",
        "        x_u, y_u = positions[u]\n",
        "\n",
        "        for v in graph.nodes():\n",
        "            if u != v:  # Вершины не сравниваются сами с собой\n",
        "                x_v, y_v = positions[v]\n",
        "\n",
        "                dist = euclidean((x_u, y_u), (x_v, y_v))\n",
        "                if dist < min_dist:\n",
        "                    min_dist = dist\n",
        "\n",
        "    return min_dist\n",
        "\n",
        "calculate_minimum_distance_between_vertices(nx_G)"
      ],
      "metadata": {
        "colab": {
          "base_uri": "https://localhost:8080/"
        },
        "id": "W_G7_Fg08zjg",
        "outputId": "0e8e49fb-a564-4e78-d96e-5f8762c5dcfa"
      },
      "execution_count": 71,
      "outputs": [
        {
          "output_type": "execute_result",
          "data": {
            "text/plain": [
              "0.01801356680884983"
            ]
          },
          "metadata": {},
          "execution_count": 71
        }
      ]
    },
    {
      "cell_type": "code",
      "source": [
        "# 2. Дисперсия длин рёбер (Dispersion of edge lengths, DEL)\n",
        "'''\n",
        "Степень разброса длин рёбер вокруг среднего значения. Маленькая дисперсия предпочтительна,\n",
        "поскольку длинные и короткие рёбра ухудшают читаемость графа.\n",
        "\n",
        "Алгоритм:\n",
        "- Получаем позиции вершин (координаты);\n",
        "- Рассчитываем длину каждого ребра, используя Евклидово расстояние;\n",
        "- Вычисляем дисперсию длин рёбер относительно их среднего значения.\n",
        "'''\n",
        "def dispersion_of_edge_lengths(graph, pos):\n",
        "    edge_lengths = []\n",
        "\n",
        "    for u, v in graph.edges():\n",
        "        coord_u = pos[u]\n",
        "        coord_v = pos[v]\n",
        "        length = euclidean(coord_u, coord_v)\n",
        "        edge_lengths.append(length)\n",
        "\n",
        "    variance = np.var(edge_lengths)\n",
        "    return variance\n",
        "\n",
        "dispersion_of_edge_lengths(nx_G, positions)"
      ],
      "metadata": {
        "colab": {
          "base_uri": "https://localhost:8080/"
        },
        "id": "rj9diFIc_S3S",
        "outputId": "d22841f7-caa2-48a5-eb40-c20f6d975241"
      },
      "execution_count": 72,
      "outputs": [
        {
          "output_type": "execute_result",
          "data": {
            "text/plain": [
              "np.float64(0.0050914621491376195)"
            ]
          },
          "metadata": {},
          "execution_count": 72
        }
      ]
    },
    {
      "cell_type": "code",
      "source": [
        "# 3. Максимальное отклонение углов (Maximum angle deviation, MAD)\n",
        "'''\n",
        "Максимальное отклонение углов (Maximum angle deviation, MAD): максимальное отклонение угла,\n",
        "образованного парой смежных рёбер одной вершины, от идеала ($120^\\circ$ или другого\n",
        "оптимального угла). Идеальные углы способствуют лучшему восприятию локальной структуры графа.\n",
        "\n",
        "Алгоритм:\n",
        "- Определяем направления рёбер, исходящих из каждой вершины;\n",
        "- Рассчитываем углы между этими направлениями;\n",
        "- Оцениваем максимальное отклонение этих углов от идеального угла​.\n",
        "'''\n",
        "def maximum_angle_deviation(graph, pos=positions, ideal_angle=120):\n",
        "    max_deviation = 0\n",
        "\n",
        "    def vector(u, v):\n",
        "        \"\"\"Возвращает вектор от вершины u к вершине v.\"\"\"\n",
        "        return np.array(pos[v]) - np.array(pos[u])\n",
        "\n",
        "    def angle_between_vectors(v1, v2):\n",
        "        \"\"\"Рассчитывает угол между векторами в градусах.\"\"\"\n",
        "        dx1, dy1 = v1\n",
        "        dx2, dy2 = v2\n",
        "        a1 = atan2(dy1, dx1)\n",
        "        a2 = atan2(dy2, dx2)\n",
        "        delta = abs(degrees(a1 - a2))\n",
        "        if delta > 180:\n",
        "            delta = 360 - delta\n",
        "        return delta\n",
        "\n",
        "    for node in graph.nodes():\n",
        "        neighbors = list(graph.neighbors(node))\n",
        "        n_neighbors = len(neighbors)\n",
        "        if n_neighbors >= 2:\n",
        "            angles = []\n",
        "            for i in range(n_neighbors):\n",
        "                vec1 = vector(node, neighbors[i])\n",
        "                for j in range(i + 1, n_neighbors):\n",
        "                    vec2 = vector(node, neighbors[j])\n",
        "                    angle = angle_between_vectors(vec1, vec2)\n",
        "                    angles.append(angle)\n",
        "            deviations = [abs(angle - ideal_angle) for angle in angles]\n",
        "            local_max_deviation = max(deviations)\n",
        "            max_deviation = max(max_deviation, local_max_deviation)\n",
        "\n",
        "    return max_deviation\n",
        "\n",
        "maximum_angle_deviation(nx_G, pos=positions, ideal_angle=120)"
      ],
      "metadata": {
        "colab": {
          "base_uri": "https://localhost:8080/"
        },
        "id": "74D17ViX_8nM",
        "outputId": "49a97feb-f158-413d-a962-9d442b3b37cd"
      },
      "execution_count": 73,
      "outputs": [
        {
          "output_type": "execute_result",
          "data": {
            "text/plain": [
              "119.99722606830954"
            ]
          },
          "metadata": {},
          "execution_count": 73
        }
      ]
    },
    {
      "cell_type": "code",
      "source": [
        "# 4. Площадь покрытия (Coverage area, CA)\n",
        "'''\n",
        "Площадь минимальной ограничивающей фигуры (прямоугольника или эллипса), охватывающей весь\n",
        "граф. Меньшая площадь означает более компактное представление графа.\n",
        "\n",
        "Алгоритм:\n",
        "- Собрираем координаты всех вершин графа;\n",
        "- Находим минимальные и максимальные координаты по осям X и Y;\n",
        "- Площадь прямоугольника вычисляется как произведение разницы по оси X на разницу по оси Y.\n",
        "'''\n",
        "def coverage_area(graph, pos=positions):\n",
        "    coords_x = [pos[node][0] for node in graph.nodes()]\n",
        "    coords_y = [pos[node][1] for node in graph.nodes()]\n",
        "\n",
        "    min_x, max_x = min(coords_x), max(coords_x)\n",
        "    min_y, max_y = min(coords_y), max(coords_y)\n",
        "\n",
        "    area = (max_x - min_x) * (max_y - min_y)\n",
        "    return area\n",
        "\n",
        "coverage_area(nx_G, positions)"
      ],
      "metadata": {
        "colab": {
          "base_uri": "https://localhost:8080/"
        },
        "id": "jU1J83MtAfBG",
        "outputId": "e78b4af3-e2e5-4a55-fa79-0e6949aff2fe"
      },
      "execution_count": 74,
      "outputs": [
        {
          "output_type": "execute_result",
          "data": {
            "text/plain": [
              "np.float64(2.864354971871922)"
            ]
          },
          "metadata": {},
          "execution_count": 74
        }
      ]
    },
    {
      "cell_type": "code",
      "source": [
        "# 5. Расстояние центров масс компонентов (Distance of centers of mass of components, DCMC)\n",
        "'''\n",
        "Среднее расстояние между центрами масс компонент связности графа. Компактная группа\n",
        "компонент облегчает понимание взаимосвязей между частями графа.\n",
        "\n",
        "Алгоритм:\n",
        "- Каждую компоненту связности рассматриваем как отдельную группу вершин;\n",
        "- Центр массы компонента — это среднее арифметическое координат всех вершин компоненты;\n",
        "- Расстояние между центроидами компонентов рассчитывается как среднее расстояние между этими центроидами.\n",
        "'''\n",
        "def distance_of_centers_of_mass_components(graph,  pos=positions):\n",
        "    connected_components = list(nx.connected_components(graph.to_undirected()))\n",
        "    centroids = []  # Центры масс каждой компоненты\n",
        "\n",
        "    for component in connected_components:\n",
        "        comp_coords = np.array([pos[node] for node in component])\n",
        "        centroid = np.mean(comp_coords, axis=0)\n",
        "        centroids.append(centroid)\n",
        "\n",
        "    distances = []\n",
        "    for i in range(len(centroids)):\n",
        "        for j in range(i + 1, len(centroids)):\n",
        "            dist = np.linalg.norm(np.array(centroids[i]) - np.array(centroids[j]))\n",
        "            distances.append(dist)\n",
        "    dcmc = np.mean(distances)\n",
        "    return dcmc\n",
        "\n",
        "distance_of_centers_of_mass_components(nx_G, positions)"
      ],
      "metadata": {
        "colab": {
          "base_uri": "https://localhost:8080/"
        },
        "id": "Boq4f8lrAuhT",
        "outputId": "dabc7661-d7d0-4d93-8649-698d5a6ee62d"
      },
      "execution_count": 75,
      "outputs": [
        {
          "output_type": "execute_result",
          "data": {
            "text/plain": [
              "np.float64(nan)"
            ]
          },
          "metadata": {},
          "execution_count": 75
        }
      ]
    },
    {
      "cell_type": "code",
      "source": [
        "# 6. Симметрия (Symmetry, Sym)\n",
        "'''\n",
        "Симметрия (Symmetry, Sym): насколько точно график отражает наличие\n",
        "симметрий в исходной структуре графа. Симметричность важна для\n",
        "естественного восприятия и лучшего запоминания графа.\n",
        "\n",
        "Алгоритм:\n",
        "- Определяем ось симметрии (вертикально проходящую линию);\n",
        "- Сопоставляем вершины слева и справа от оси;\n",
        "- Подсчитаем сумму квадратичных отклонений в координатах между соответствующими вершинами;\n",
        "- Используем нормировку, чтобы получить коэффициент симметрии от 0 до 1.\n",
        "'''\n",
        "def symmetry_metric(graph,  pos=positions):\n",
        "    all_x = [coord[0] for coord in pos.values()]\n",
        "    center_x = np.median(all_x)\n",
        "\n",
        "    left_nodes = {}\n",
        "    right_nodes = {}\n",
        "\n",
        "    for node, xy in pos.items():\n",
        "        if xy[0] < center_x:\n",
        "            left_nodes[node] = xy\n",
        "        elif xy[0] > center_x:\n",
        "            right_nodes[node] = xy\n",
        "    closest_pairs = []\n",
        "    used_right = set()\n",
        "\n",
        "    for l_node, l_coord in left_nodes.items():\n",
        "        best_match = None\n",
        "        min_dist = float('inf')\n",
        "        for r_node, r_coord in right_nodes.items():\n",
        "            if r_node not in used_right:\n",
        "                dist = np.linalg.norm(np.array(l_coord) - np.array(r_coord))\n",
        "                if dist < min_dist:\n",
        "                    min_dist = dist\n",
        "                    best_match = r_node\n",
        "        if best_match:\n",
        "            closest_pairs.append((l_node, best_match))\n",
        "            used_right.add(best_match)\n",
        "\n",
        "    asymmetry = 0\n",
        "    for pair in closest_pairs:\n",
        "        l_node, r_node = pair\n",
        "        l_coord = pos[l_node]\n",
        "        r_coord = pos[r_node]\n",
        "        asymmetry += np.abs(center_x - (l_coord[0] + r_coord[0])/2)**2\n",
        "\n",
        "    sym = 1 - (asymmetry / len(closest_pairs))\n",
        "    return sym\n",
        "\n",
        "symmetry_metric(nx_G, positions)"
      ],
      "metadata": {
        "colab": {
          "base_uri": "https://localhost:8080/"
        },
        "id": "oNsrHN4tBEUi",
        "outputId": "9762ac76-ddcf-494f-f788-291bd2b90b08"
      },
      "execution_count": 76,
      "outputs": [
        {
          "output_type": "execute_result",
          "data": {
            "text/plain": [
              "np.float64(0.9853804294029385)"
            ]
          },
          "metadata": {},
          "execution_count": 76
        }
      ]
    },
    {
      "cell_type": "code",
      "source": [
        "# 7. Регулярность формы (Regularity of form, RF)\n",
        "'''\n",
        "Равномерность размеров и форм областей около каждой вершины. Равномерные области делают\n",
        "граф более привлекательным и удобным для чтения.\n",
        "\n",
        "Алгоритм:\n",
        "- Рассмотрим радиус окрестности каждой вершины;\n",
        "- Возьмем среднее расстояние до ближайших соседей и сравним его с аналогичными показателями для других вершин;\n",
        "- Таким образом, равномерность формы оценивается по сходству этих показателей между разными вершинами.\n",
        "'''\n",
        "def regularity_of_form(graph,  pos=positions):\n",
        "    densities = []\n",
        "\n",
        "    for node in graph.nodes():\n",
        "        neighbors = list(graph.neighbors(node))\n",
        "        neighbor_coords = [pos[nbr] for nbr in neighbors]\n",
        "        current_node_position = pos[node]\n",
        "        distances = [np.linalg.norm(current_node_position - np.array(nc)) for nc in neighbor_coords]\n",
        "        mean_distance = np.mean(distances) if distances else 0\n",
        "        densities.append(mean_distance)\n",
        "    std_density = np.std(densities)\n",
        "    rf = 1 - (std_density / np.max(densities))\n",
        "    return rf\n",
        "\n",
        "regularity_of_form(nx_G, positions)"
      ],
      "metadata": {
        "colab": {
          "base_uri": "https://localhost:8080/"
        },
        "id": "oZIykegVBPRg",
        "outputId": "8e783b31-c1c6-4d2e-eb3b-30a48fd2a81d"
      },
      "execution_count": 77,
      "outputs": [
        {
          "output_type": "execute_result",
          "data": {
            "text/plain": [
              "np.float64(0.8849221892046869)"
            ]
          },
          "metadata": {},
          "execution_count": 77
        }
      ]
    },
    {
      "cell_type": "code",
      "source": [
        "# 8. Соотношение сторон окна (Window aspect ratio, WR)\n",
        "'''\n",
        "Отношение ширины к высоте прямоугольника, содержащего всю картину. Соблюдение стандартных\n",
        "соотношений сторон улучшает комфорт просмотра и печати графики.\n",
        "\n",
        "Алгоритм:\n",
        "- Необходимо определить крайние координаты (минимумы и максимумы) всех вершин.\n",
        "- Исходя из них, вычисляем ширину и высоту видимой области.\n",
        "- Наконец, вычисляем соотношение сторон.\n",
        "'''\n",
        "def window_aspect_ratio(graph,  pos=positions):\n",
        "    xs = [pos[node][0] for node in graph.nodes()]\n",
        "    ys = [pos[node][1] for node in graph.nodes()]\n",
        "\n",
        "    min_x, max_x = min(xs), max(xs)\n",
        "    min_y, max_y = min(ys), max(ys)\n",
        "\n",
        "    width = max_x - min_x\n",
        "    height = max_y - min_y\n",
        "\n",
        "    wr = width / height\n",
        "    return wr\n",
        "\n",
        "window_aspect_ratio(nx_G, positions)"
      ],
      "metadata": {
        "colab": {
          "base_uri": "https://localhost:8080/"
        },
        "id": "Tp3PItj8Bcfb",
        "outputId": "c073eead-4b4c-4b11-805e-69671a617343"
      },
      "execution_count": 78,
      "outputs": [
        {
          "output_type": "execute_result",
          "data": {
            "text/plain": [
              "np.float64(1.218579742421528)"
            ]
          },
          "metadata": {},
          "execution_count": 78
        }
      ]
    },
    {
      "cell_type": "code",
      "source": [
        "# 9. Среднее абсолютное отклонение длины рёбер (Mean Absolute Edge Length Deviation, MAELD)\n",
        "'''\n",
        "Среднее абсолютное отклонение длины рёбер (Mean Absolute Edge Length Deviation, MAELD):\n",
        "Среднее арифметическое значений модуля разницы между длиной каждого ребра и средней\n",
        "длиной всех рёбер. Применяется для измерения однородности длин рёбер, помогает выявить\n",
        "неравномерности и чрезмерные искажения.\n",
        "\n",
        "Алгоритм:\n",
        "- Рассчитайте длину каждого ребра;\n",
        "- Найдите среднюю длину рёбер;\n",
        "- Вычислите модуль отклонения каждой длины ребра от средней;\n",
        "- Усредните полученные модули отклонений;\n",
        "'''\n",
        "def mean_absolute_edge_length_deviation(graph,  pos=positions):\n",
        "    edge_lengths = []\n",
        "    for u, v in graph.edges():\n",
        "        edge_lengths.append(euclidean(pos[u], pos[v]))\n",
        "    mean_length = np.mean(edge_lengths)\n",
        "    absolute_deviations = [abs(el - mean_length) for el in edge_lengths]\n",
        "    maeld = np.mean(absolute_deviations)\n",
        "    return maeld\n",
        "\n",
        "mean_absolute_edge_length_deviation(nx_G, positions)"
      ],
      "metadata": {
        "colab": {
          "base_uri": "https://localhost:8080/"
        },
        "id": "yej9jXPRB09U",
        "outputId": "78d3ce95-c480-44df-c136-a13917321fd0"
      },
      "execution_count": 79,
      "outputs": [
        {
          "output_type": "execute_result",
          "data": {
            "text/plain": [
              "np.float64(0.05394713455323262)"
            ]
          },
          "metadata": {},
          "execution_count": 79
        }
      ]
    },
    {
      "cell_type": "code",
      "source": [
        "# 10. Огибающая линия контура графа (Graph Contour Envelope, GCE)\n",
        "'''\n",
        "Расстояние от внешних границ сетки до ближайшей вершины графа. Используется для оценки\n",
        "компактности графического представления и определения размера необходимого холста.\n",
        "\n",
        "Алгоритм\n",
        "- Нам нужны координаты всех вершин графа;\n",
        "- Вычисляем минимальную дистанцию от внешней рамки окна (обычно прямоугольника) до ближайшей вершины;\n",
        "- Чем меньше GCE, тем компактнее и эффективнее визуализация.\n",
        "'''\n",
        "\n",
        "def graph_contour_envelope(graph,  pos=positions):\n",
        "    xs = [pos[node][0] for node in graph.nodes()]\n",
        "    ys = [pos[node][1] for node in graph.nodes()]\n",
        "\n",
        "    min_x, max_x = min(xs), max(xs)\n",
        "    min_y, max_y = min(ys), max(ys)\n",
        "\n",
        "    width = max_x - min_x\n",
        "    height = max_y - min_y\n",
        "\n",
        "    gce_left = min_x\n",
        "    gce_right = width - max_x\n",
        "\n",
        "    gce_top = min_y\n",
        "    gce_bottom = height - max_y\n",
        "\n",
        "    gce = min(gce_left, gce_right, gce_top, gce_bottom)\n",
        "    return gce\n",
        "\n",
        "graph_contour_envelope(nx_G, positions)"
      ],
      "metadata": {
        "colab": {
          "base_uri": "https://localhost:8080/"
        },
        "id": "2sDzbtNdCAZT",
        "outputId": "39727a05-739b-4b2f-8646-0094f2418be5"
      },
      "execution_count": 80,
      "outputs": [
        {
          "output_type": "execute_result",
          "data": {
            "text/plain": [
              "np.float64(-1.0)"
            ]
          },
          "metadata": {},
          "execution_count": 80
        }
      ]
    },
    {
      "cell_type": "code",
      "source": [
        "# 11. Угол поворота (Angle Preservation Metric, APM)\n",
        "'''\n",
        "Измеряет отклонение реальных углов от теоретически ожидаемых величин.\n",
        "Важна для сохранения геометрических особенностей графа,\n",
        "например, ортогонального или почти-ортогонального размещения рёбер.\n",
        "\n",
        "Алгоритм:\n",
        "- Рассчитываются углы между всеми рёбрами.\n",
        "- Для каждого ребра вычисляется разница между фактическим углом и идеальным углом.\n",
        "- Усредняется сумма отклонений для всей сети.\n",
        "'''\n",
        "def angle_preservation_metric(graph,  pos=positions):\n",
        "    def get_angle(x1, y1, x2, y2):\n",
        "        return atan2(y2-y1, x2-x1)\n",
        "\n",
        "    angles = []\n",
        "\n",
        "    for u, v in graph.edges():\n",
        "        ux, uy = pos[u]\n",
        "        vx, vy = pos[v]\n",
        "        angle_uv = get_angle(ux, uy, vx, vy)\n",
        "        angles.append(angle_uv)\n",
        "\n",
        "    normalized_angles = [(a + pi) % (2*pi) - pi for a in angles]\n",
        "    mean_angle = np.mean(normalized_angles)\n",
        "    angular_deviations = [abs(a - mean_angle) for a in normalized_angles]\n",
        "\n",
        "    apm = np.mean(angular_deviations)\n",
        "    return apm\n",
        "\n",
        "angle_preservation_metric(nx_G,  pos=positions)"
      ],
      "metadata": {
        "colab": {
          "base_uri": "https://localhost:8080/"
        },
        "id": "zPHNAm4vCU6J",
        "outputId": "e14a1106-fd95-48e3-a77f-bd60810396f9"
      },
      "execution_count": 81,
      "outputs": [
        {
          "output_type": "execute_result",
          "data": {
            "text/plain": [
              "np.float64(1.4407980046822344)"
            ]
          },
          "metadata": {},
          "execution_count": 81
        }
      ]
    },
    {
      "cell_type": "code",
      "source": [
        "# 12. Критерий корреляции взаиморасположения (Proximity Correlation Criterion, PCC)\n",
        "'''\n",
        "Статистическая оценка зависимости между расстояниями вершин в графе и\n",
        "соответствующими путями. Позволяет измерять, насколько близкое положение\n",
        "вершин соответствует близости в графовом смысле.\n",
        "\n",
        "Алгоритм:\n",
        "- Рассчитывать кратчайшие пути между всеми парами вершин;\n",
        "- Находить соответствующие расстояния между вершинами в визуализации;\n",
        "- Использовать коэффициент корреляции Пирсона для оценки соответствия между этими наборами данных.\n",
        "'''\n",
        "\n",
        "def proximity_correlation_criterion(graph,  pos=positions):\n",
        "    path_matrix = dict(nx.all_pairs_shortest_path_length(graph))\n",
        "\n",
        "    graph_distances = []\n",
        "    visual_distances = []\n",
        "\n",
        "    for u in graph.nodes():\n",
        "        for v in graph.nodes():\n",
        "            if u != v:\n",
        "                graph_dist = path_matrix[u].get(v, float('inf'))\n",
        "                graph_distances.append(graph_dist)\n",
        "\n",
        "                vis_dist = np.linalg.norm(np.array(pos[u]) - np.array(pos[v]))\n",
        "                visual_distances.append(vis_dist)\n",
        "\n",
        "    corr_coef, _ = pearsonr(graph_distances, visual_distances)\n",
        "    return corr_coef\n",
        "\n",
        "proximity_correlation_criterion(nx_G,  pos=positions)"
      ],
      "metadata": {
        "colab": {
          "base_uri": "https://localhost:8080/"
        },
        "id": "1YIuo8WOCcKp",
        "outputId": "e1a0ac02-0203-489f-e485-1b766a8d92e7"
      },
      "execution_count": 82,
      "outputs": [
        {
          "output_type": "execute_result",
          "data": {
            "text/plain": [
              "np.float64(0.5167019596949234)"
            ]
          },
          "metadata": {},
          "execution_count": 82
        }
      ]
    },
    {
      "cell_type": "code",
      "source": [
        "# 13. Показатель осевого выравнивания (Axis Alignment Index, AAI)\n",
        "'''\n",
        "Показатель осевого выравнивания (Axis Alignment Index, AAI): Определяет долю рёбер,\n",
        "ориентированных вдоль основных координатных осей. Полезен для построения удобочитаемых\n",
        "представлений плоских графов, особенно в инженерии и дизайне.\n",
        "\n",
        "Алгоритм:\n",
        "- Рассчитайте направление каждого ребра;\n",
        "- Проверьте, направлено ли ребро строго вертикально или горизонтально;\n",
        "- Подсчитайте долю таких рёбер от общего числа рёбер.\n",
        "'''\n",
        "\n",
        "def axis_alignment_index(graph, pos=positions):\n",
        "    aligned_edges = 0\n",
        "    total_edges = len(graph.edges())\n",
        "\n",
        "    for u, v in graph.edges():\n",
        "        ux, uy = pos[u]\n",
        "        vx, vy = pos[v]\n",
        "\n",
        "        if np.isclose(uy, vy) or np.isclose(ux, vx):\n",
        "            aligned_edges += 1\n",
        "\n",
        "    aai = aligned_edges / total_edges\n",
        "    return aai\n",
        "\n",
        "axis_alignment_index(nx_G, pos=positions)"
      ],
      "metadata": {
        "colab": {
          "base_uri": "https://localhost:8080/"
        },
        "id": "MCsKmsmXCkn7",
        "outputId": "c539de68-c986-4e2f-cfbb-55f9f0e2ef90"
      },
      "execution_count": 83,
      "outputs": [
        {
          "output_type": "execute_result",
          "data": {
            "text/plain": [
              "0.0"
            ]
          },
          "metadata": {},
          "execution_count": 83
        }
      ]
    },
    {
      "cell_type": "code",
      "source": [
        "# 14. Относительная разница между максимальным и средним расстоянием (Relative Distance Difference Ratio, RDDR)\n",
        "'''\n",
        "Относительная разница между максимальным и средним расстоянием (Relative Distance Difference Ratio, RDDR):\n",
        "Соотношение максимального и среднего расстояния между парами вершин. Используется для проверки\n",
        "пропорциональности масштаба, предотвращения появления больших пустых зон или чрезмерной концентрации вершин.\n",
        "\n",
        "Алгоритм:\n",
        "- Рассчитываем расстояния между всеми парами вершин;\n",
        "- Находим максимальное и среднее расстояния;\n",
        "- РДДР вычисляется как отношение максимальной дистанции к среднему расстоянию.\n",
        "'''\n",
        "\n",
        "def relative_distance_difference_ratio(graph, pos=positions):\n",
        "    if pos is None:\n",
        "        pos = nx.spring_layout(graph, seed=42)\n",
        "\n",
        "    distances = []\n",
        "    for u in graph.nodes():\n",
        "        for v in graph.nodes():\n",
        "            if u != v:\n",
        "                dist = np.linalg.norm(np.array(pos[u]) - np.array(pos[v]))\n",
        "                distances.append(dist)\n",
        "\n",
        "    max_dist = np.max(distances)\n",
        "    mean_dist = np.mean(distances)\n",
        "\n",
        "    rddr = max_dist / mean_dist\n",
        "    return rddr\n",
        "\n",
        "relative_distance_difference_ratio(nx_G, positions)"
      ],
      "metadata": {
        "colab": {
          "base_uri": "https://localhost:8080/"
        },
        "id": "ix7c_MnNCqrI",
        "outputId": "8e10d780-54da-41ed-fb26-04c0da19d7b6"
      },
      "execution_count": 84,
      "outputs": [
        {
          "output_type": "execute_result",
          "data": {
            "text/plain": [
              "np.float64(2.4052547313008397)"
            ]
          },
          "metadata": {},
          "execution_count": 84
        }
      ]
    },
    {
      "cell_type": "code",
      "source": [
        "# 15. Размер краевых выпуклых оболочек (Convex Hull Size of Edges, CHSE):\n",
        "'''\n",
        "Размер краевых выпуклых оболочек (Convex Hull Size of Edges, CHSE):\n",
        "Площадь наименьшей выпуклой оболочки, покрывающей набор концов рёбер.\n",
        "Демонстрирует эффективность упаковки графического изображения и уровень\n",
        "избыточности.\n",
        "'''\n",
        "def convex_hull_size_of_edges(graph, pos=positions):\n",
        "    points = []\n",
        "\n",
        "    for u, v in graph.edges():\n",
        "        points.append(pos[u])\n",
        "        points.append(pos[v])\n",
        "\n",
        "    hull = ConvexHull(points)\n",
        "\n",
        "    chse = hull.volume\n",
        "    return chse\n",
        "\n",
        "convex_hull_size_of_edges(nx_G, positions)"
      ],
      "metadata": {
        "colab": {
          "base_uri": "https://localhost:8080/"
        },
        "id": "UnuVT8XhDMTc",
        "outputId": "0f8079ce-9ddb-49c3-8619-400c2a3e456d"
      },
      "execution_count": 85,
      "outputs": [
        {
          "output_type": "execute_result",
          "data": {
            "text/plain": [
              "1.692265035067961"
            ]
          },
          "metadata": {},
          "execution_count": 85
        }
      ]
    },
    {
      "cell_type": "markdown",
      "source": [
        "#  Модель графа и реструктуризация базы данных"
      ],
      "metadata": {
        "id": "geZPSYRzzhHT"
      }
    },
    {
      "cell_type": "markdown",
      "source": [
        "Здесь мы пытаемся сделать переупаковку нашего графа и понять как его лучше разместить то есть уложить чтобы пересобрать базу данных, то есть мы пошли от метода восстановления запросов по пути к восстановлению структуры базы по ним.\n",
        "\n",
        "Для поиска (bottlenecks) в нашем графе можно использовать анализ центральности вершин (degree centrality, betweenness centrality, closeness centrality и прочие параметры), выявление плотных подграфов и распределённых путей. Особое внимание уделяем параметрам минимального расстояния между вершинами (MDBV), средней длине рёбер (MAELD) и относительной разницы расстояний (RDDR), так как они помогают выявить участки с максимальной нагрузкой и длительными путями прохождения запросов, определяющими узкие места сети."
      ],
      "metadata": {
        "id": "VWCDfZs8F34O"
      }
    },
    {
      "cell_type": "code",
      "execution_count": 86,
      "metadata": {
        "colab": {
          "base_uri": "https://localhost:8080/"
        },
        "id": "u8Rq3tu8ZWSq",
        "outputId": "13b22626-0a7b-47e8-bf7b-3834f9899392"
      },
      "outputs": [
        {
          "output_type": "stream",
          "name": "stdout",
          "text": [
            "CUDA is not available. Training on CPU.\n"
          ]
        }
      ],
      "source": [
        "if torch.cuda.is_available():\n",
        "    device = torch.device('cuda')\n",
        "    print('CUDA is available. Training on GPU.')\n",
        "else:\n",
        "    device = torch.device('cpu')\n",
        "    print('CUDA is not available. Training on CPU.')"
      ]
    },
    {
      "cell_type": "code",
      "execution_count": 87,
      "metadata": {
        "id": "kIYoynwyZXpJ"
      },
      "outputs": [],
      "source": [
        "torch.autograd.set_detect_anomaly(True)\n",
        "class GraphLayoutEvaluator(nn.Module):\n",
        "    def __init__(self, num_node_features, num_layers=2, hidden_dim=64, num_heads=8):\n",
        "        super(GraphLayoutEvaluator, self).__init__()\n",
        "\n",
        "        self.num_layers = num_layers\n",
        "        self.hidden_dim = hidden_dim\n",
        "        self.num_heads = num_heads\n",
        "\n",
        "        self.convs = nn.ModuleList()\n",
        "        self.convs.append(GATConv(num_node_features, hidden_dim, heads=num_heads))\n",
        "        for _ in range(num_layers - 1):\n",
        "            self.convs.append(GATConv(hidden_dim * num_heads, hidden_dim, heads=num_heads))\n",
        "\n",
        "        self.fc = nn.Linear(hidden_dim * num_heads, 1)\n",
        "\n",
        "    def forward(self, data):\n",
        "            x, edge_index = data.x, data.edge_index\n",
        "\n",
        "            for i in range(self.num_layers):\n",
        "                x = self.convs[i](x, edge_index)\n",
        "                x = F.relu(x)\n",
        "\n",
        "            x = torch.mean(x, dim=0)\n",
        "\n",
        "            quality_score = torch.sigmoid(self.fc(x))\n",
        "            return quality_score\n",
        "\n",
        "    def calculate_edge_length_loss(self,data):\n",
        "        \"\"\"Calculates the total edge length loss (PyTorch compatible).\"\"\"\n",
        "        x, edge_index = data.x, data.edge_index\n",
        "\n",
        "        start_pos = x[edge_index[0], :2]\n",
        "        end_pos = x[edge_index[1], :2]\n",
        "\n",
        "        edge_lengths = torch.norm(start_pos - end_pos, dim=1)\n",
        "        total_length = torch.sum(edge_lengths)\n",
        "\n",
        "        return total_length\n",
        "\n",
        "    def calculate_crossing_number(self, data, initial_temperature=1.0):\n",
        "        \"\"\"Calculates the number of edge crossings using Gumbel-Softmax with log_softmax.\"\"\"\n",
        "        x, edge_index = data.x, data.edge_index\n",
        "        num_edges = edge_index.shape[1]\n",
        "\n",
        "        edges_start = x[edge_index[0], :2]\n",
        "        edges_end = x[edge_index[1], :2]\n",
        "\n",
        "        def orientation(p, q, r):\n",
        "            return (q[:, 1] - p[:, 1]) * (r[:, 0] - q[:, 0]) - (q[:, 0] - p[:, 0]) * (r[:, 1] - q[:, 1])\n",
        "\n",
        "        def do_intersect(p1, q1, p2, q2):\n",
        "            o1 = orientation(p1, q1, p2)\n",
        "            o2 = orientation(p1, q1, q2)\n",
        "            o3 = orientation(p2, q2, p1)\n",
        "            o4 = orientation(p2, q2, q1)\n",
        "\n",
        "            probabilities = torch.sigmoid(-(o1 * o2)) * torch.sigmoid(-(o3 * o4))\n",
        "            return probabilities\n",
        "\n",
        "        edge_indices = torch.arange(num_edges)\n",
        "        edge_pairs = torch.combinations(edge_indices, r=2)\n",
        "\n",
        "        p1 = edges_start[edge_pairs[:, 0]]\n",
        "        q1 = edges_end[edge_pairs[:, 0]]\n",
        "        p2 = edges_start[edge_pairs[:, 1]]\n",
        "        q2 = edges_end[edge_pairs[:, 1]]\n",
        "\n",
        "        intersection_probs = do_intersect(p1, q1, p2, q2)\n",
        "\n",
        "        temperature = torch.nn.Parameter(torch.tensor(initial_temperature, requires_grad=True))\n",
        "        temperature = torch.clamp(temperature, min=0.1, max=10.0)\n",
        "\n",
        "        epsilon = 1e-8\n",
        "        intersection_probs = torch.clamp(intersection_probs, min=epsilon, max=1.0)\n",
        "        log_probs = torch.log(intersection_probs)\n",
        "        log_probs = torch.clamp(log_probs, min=-100, max=100)\n",
        "\n",
        "        gumbel_noise = -torch.log(-torch.log(torch.rand_like(log_probs)))\n",
        "        gumbel_noise = torch.clamp(gumbel_noise, min=-100, max=100)\n",
        "\n",
        "        before_log_softmax = (log_probs + gumbel_noise) / temperature\n",
        "        before_log_softmax = torch.clamp(before_log_softmax, min=-100, max=100)\n",
        "\n",
        "        soft_intersections_log = F.log_softmax(before_log_softmax, dim=0)\n",
        "        soft_intersections = torch.exp(soft_intersections_log)\n",
        "        soft_intersections = torch.clamp(soft_intersections, min=0, max=1)\n",
        "        expected_crossings = torch.sum(soft_intersections)\n",
        "        return expected_crossings\n",
        "\n",
        "    def calculate_density_variation_loss(self,data, grid_size=5):\n",
        "        \"\"\"Calculates the density variation loss using torch.scatter_add.\"\"\"\n",
        "        x = data.x[:, :2]\n",
        "\n",
        "        min_x = torch.min(x[:, 0])\n",
        "        min_y = torch.min(x[:, 1])\n",
        "        max_x = torch.max(x[:, 0])\n",
        "        max_y = torch.max(x[:, 1])\n",
        "\n",
        "        grid_rows = ((x[:, 1] - min_y) / (max_y - min_y) * grid_size).long()\n",
        "        grid_cols = ((x[:, 0] - min_x) / (max_x - min_x) * grid_size).long()\n",
        "\n",
        "        grid_rows = torch.clamp(grid_rows, 0, grid_size - 1)\n",
        "        grid_cols = torch.clamp(grid_cols, 0, grid_size - 1)\n",
        "\n",
        "        linear_index = grid_rows * grid_size + grid_cols\n",
        "        grid = torch.zeros(grid_size * grid_size, device=x.device, requires_grad=True)\n",
        "        ones = torch.ones(x.shape[0], dtype=torch.float, device=x.device)\n",
        "        grid = torch.scatter_add(grid, 0, linear_index, ones)\n",
        "        grid = grid.reshape((grid_size, grid_size))\n",
        "\n",
        "        mean_density = torch.mean(grid)\n",
        "        loss = torch.sum((grid - mean_density) ** 2)\n",
        "\n",
        "        return loss\n",
        "\n",
        "    def calculate_angle_loss(self,data):\n",
        "        \"\"\"Calculates the angle loss to maximize angles between edges.\"\"\"\n",
        "        x, edge_index = data.x, data.edge_index\n",
        "        total_loss = 0.0\n",
        "        for node_index in range(x.shape[0]):\n",
        "            neighbor_indices = []\n",
        "            for i in range(edge_index.shape[1]):\n",
        "                if edge_index[0, i] == node_index:\n",
        "                    neighbor_indices.append(edge_index[1, i])\n",
        "                elif edge_index[1, i] == node_index:\n",
        "                    neighbor_indices.append(edge_index[0, i])\n",
        "\n",
        "            if len(neighbor_indices) >= 2:\n",
        "                angles = []\n",
        "                for i in range(len(neighbor_indices)):\n",
        "                    for j in range(i + 1, len(neighbor_indices)):\n",
        "                        neighbor1 = neighbor_indices[i]\n",
        "                        neighbor2 = neighbor_indices[j]\n",
        "\n",
        "                        vec1 = x[neighbor1, :2] - x[node_index, :2]\n",
        "                        vec2 = x[neighbor2, :2] - x[node_index, :2]\n",
        "\n",
        "                        dot_product = torch.dot(vec1, vec2)\n",
        "                        magnitudes = torch.norm(vec1) * torch.norm(vec2)\n",
        "                        if magnitudes > 0:\n",
        "                            angle = torch.acos(dot_product / magnitudes)\n",
        "                            angles.append(angle)\n",
        "\n",
        "                if angles:\n",
        "                    min_angle = min(angles)\n",
        "                    total_loss += torch.relu(torch.tensor(0.785) - min_angle)\n",
        "\n",
        "        return total_loss\n",
        "\n",
        "    def total_loss(self,data, w_crossing=1.0, w_length=1.0, w_density=1.0, w_angle = 1.0):\n",
        "        \"\"\"Calculates the total loss.\"\"\"\n",
        "        crossing_loss = self.calculate_crossing_number(data)\n",
        "        length_loss = self.calculate_edge_length_loss(data)\n",
        "\n",
        "        density_loss = self.calculate_density_variation_loss(data)\n",
        "        angle_loss = self.calculate_angle_loss(data)\n",
        "        total =  w_crossing * crossing_loss + w_length * length_loss + w_density * density_loss + w_angle * angle_loss\n",
        "        return total"
      ]
    },
    {
      "cell_type": "code",
      "execution_count": 88,
      "metadata": {
        "id": "lvd6ZGlwZZEq"
      },
      "outputs": [],
      "source": [
        "def create_graph_data(graph, layout_algorithm):\n",
        "    \"\"\"Creates a torch_geometric.data.Data object from an igraph.Graph and a layout algorithm.\"\"\"\n",
        "    if layout_algorithm == \"random\":\n",
        "        layout = graph.layout_random()\n",
        "    else:\n",
        "        layout = graph.layout(layout_algorithm)\n",
        "\n",
        "    node_positions_initial = torch.tensor(layout.coords, dtype=torch.float)\n",
        "\n",
        "    if torch.isnan(node_positions_initial).any():\n",
        "        print(\"Предупреждение: node_positions_initial содержит NaN!\")\n",
        "        node_positions_initial = torch.nan_to_num(node_positions_initial, nan=0.0)\n",
        "    if torch.isinf(node_positions_initial).any():\n",
        "        print(\"Предупреждение: node_positions_initial содержит inf!\")\n",
        "        node_positions_initial = torch.clamp(node_positions_initial, min=-1e8, max=1e8)\n",
        "\n",
        "    min_coords = node_positions_initial.min(dim=0, keepdim=True).values.detach()\n",
        "    max_coords = node_positions_initial.max(dim=0, keepdim=True).values.detach()\n",
        "\n",
        "    if torch.any(max_coords == min_coords):\n",
        "        print(\"Warning: max_coords == min_coords.  Setting node_positions to zero.\")\n",
        "        node_positions = torch.zeros_like(node_positions_initial)\n",
        "    else:\n",
        "        min_coords = torch.clamp(min_coords, min=-1e8, max=1e8)\n",
        "        max_coords = torch.clamp(max_coords, min=-1e8, max=1e8)\n",
        "        node_positions = (node_positions_initial - min_coords) / (max_coords - min_coords)\n",
        "    node_positions.requires_grad_(True)\n",
        "\n",
        "    edge_index = torch.tensor(list(graph.get_edgelist()), dtype=torch.long).t().contiguous()\n",
        "    node_degrees = torch.tensor(graph.degree(), dtype=torch.float).unsqueeze(1)\n",
        "    x = torch.cat([node_positions, node_degrees], dim=1)\n",
        "\n",
        "    data = Data(x=x, edge_index=edge_index)\n",
        "\n",
        "    return data"
      ]
    },
    {
      "cell_type": "code",
      "execution_count": 89,
      "metadata": {
        "colab": {
          "base_uri": "https://localhost:8080/",
          "height": 373
        },
        "id": "T7pJztDqZaWe",
        "outputId": "1603cb1b-f939-4aa7-f84d-7c8e9b1c7492"
      },
      "outputs": [
        {
          "output_type": "error",
          "ename": "ValueError",
          "evalue": "number of iterations must be positive",
          "traceback": [
            "\u001b[0;31m---------------------------------------------------------------------------\u001b[0m",
            "\u001b[0;31mValueError\u001b[0m                                Traceback (most recent call last)",
            "\u001b[0;32m/tmp/ipython-input-2844943114.py\u001b[0m in \u001b[0;36m<cell line: 0>\u001b[0;34m()\u001b[0m\n\u001b[1;32m      6\u001b[0m     \u001b[0;32mfor\u001b[0m \u001b[0mg\u001b[0m \u001b[0;32min\u001b[0m \u001b[0mgraph\u001b[0m\u001b[0;34m.\u001b[0m\u001b[0mvalues\u001b[0m\u001b[0;34m(\u001b[0m\u001b[0;34m)\u001b[0m\u001b[0;34m:\u001b[0m\u001b[0;34m\u001b[0m\u001b[0;34m\u001b[0m\u001b[0m\n\u001b[1;32m      7\u001b[0m         \u001b[0;32mfor\u001b[0m \u001b[0mlayout_algorithm\u001b[0m \u001b[0;32min\u001b[0m \u001b[0mlayout_algorithms\u001b[0m\u001b[0;34m:\u001b[0m\u001b[0;34m\u001b[0m\u001b[0;34m\u001b[0m\u001b[0m\n\u001b[0;32m----> 8\u001b[0;31m             \u001b[0mdata\u001b[0m \u001b[0;34m=\u001b[0m \u001b[0mcreate_graph_data\u001b[0m\u001b[0;34m(\u001b[0m\u001b[0mg\u001b[0m\u001b[0;34m,\u001b[0m\u001b[0mlayout_algorithm\u001b[0m\u001b[0;34m)\u001b[0m\u001b[0;34m\u001b[0m\u001b[0;34m\u001b[0m\u001b[0m\n\u001b[0m\u001b[1;32m      9\u001b[0m             \u001b[0mdata_list\u001b[0m\u001b[0;34m.\u001b[0m\u001b[0mappend\u001b[0m\u001b[0;34m(\u001b[0m\u001b[0mdata\u001b[0m\u001b[0;34m)\u001b[0m\u001b[0;34m\u001b[0m\u001b[0;34m\u001b[0m\u001b[0m\n\u001b[1;32m     10\u001b[0m \u001b[0;34m\u001b[0m\u001b[0m\n",
            "\u001b[0;32m/tmp/ipython-input-2900535546.py\u001b[0m in \u001b[0;36mcreate_graph_data\u001b[0;34m(graph, layout_algorithm)\u001b[0m\n\u001b[1;32m      4\u001b[0m         \u001b[0mlayout\u001b[0m \u001b[0;34m=\u001b[0m \u001b[0mgraph\u001b[0m\u001b[0;34m.\u001b[0m\u001b[0mlayout_random\u001b[0m\u001b[0;34m(\u001b[0m\u001b[0;34m)\u001b[0m\u001b[0;34m\u001b[0m\u001b[0;34m\u001b[0m\u001b[0m\n\u001b[1;32m      5\u001b[0m     \u001b[0;32melse\u001b[0m\u001b[0;34m:\u001b[0m\u001b[0;34m\u001b[0m\u001b[0;34m\u001b[0m\u001b[0m\n\u001b[0;32m----> 6\u001b[0;31m         \u001b[0mlayout\u001b[0m \u001b[0;34m=\u001b[0m \u001b[0mgraph\u001b[0m\u001b[0;34m.\u001b[0m\u001b[0mlayout\u001b[0m\u001b[0;34m(\u001b[0m\u001b[0mlayout_algorithm\u001b[0m\u001b[0;34m)\u001b[0m\u001b[0;34m\u001b[0m\u001b[0;34m\u001b[0m\u001b[0m\n\u001b[0m\u001b[1;32m      7\u001b[0m \u001b[0;34m\u001b[0m\u001b[0m\n\u001b[1;32m      8\u001b[0m     \u001b[0mnode_positions_initial\u001b[0m \u001b[0;34m=\u001b[0m \u001b[0mtorch\u001b[0m\u001b[0;34m.\u001b[0m\u001b[0mtensor\u001b[0m\u001b[0;34m(\u001b[0m\u001b[0mlayout\u001b[0m\u001b[0;34m.\u001b[0m\u001b[0mcoords\u001b[0m\u001b[0;34m,\u001b[0m \u001b[0mdtype\u001b[0m\u001b[0;34m=\u001b[0m\u001b[0mtorch\u001b[0m\u001b[0;34m.\u001b[0m\u001b[0mfloat\u001b[0m\u001b[0;34m)\u001b[0m\u001b[0;34m\u001b[0m\u001b[0;34m\u001b[0m\u001b[0m\n",
            "\u001b[0;32m/usr/local/lib/python3.12/dist-packages/igraph/layout.py\u001b[0m in \u001b[0;36m_layout\u001b[0;34m(graph, layout, *args, **kwds)\u001b[0m\n\u001b[1;32m    529\u001b[0m     \u001b[0;32mif\u001b[0m \u001b[0;32mnot\u001b[0m \u001b[0mcallable\u001b[0m\u001b[0;34m(\u001b[0m\u001b[0mmethod\u001b[0m\u001b[0;34m)\u001b[0m\u001b[0;34m:\u001b[0m\u001b[0;34m\u001b[0m\u001b[0;34m\u001b[0m\u001b[0m\n\u001b[1;32m    530\u001b[0m         \u001b[0;32mraise\u001b[0m \u001b[0mValueError\u001b[0m\u001b[0;34m(\u001b[0m\u001b[0;34m\"layout method must be callable\"\u001b[0m\u001b[0;34m)\u001b[0m\u001b[0;34m\u001b[0m\u001b[0;34m\u001b[0m\u001b[0m\n\u001b[0;32m--> 531\u001b[0;31m     \u001b[0mlayout\u001b[0m \u001b[0;34m=\u001b[0m \u001b[0mmethod\u001b[0m\u001b[0;34m(\u001b[0m\u001b[0mgraph\u001b[0m\u001b[0;34m,\u001b[0m \u001b[0;34m*\u001b[0m\u001b[0margs\u001b[0m\u001b[0;34m,\u001b[0m \u001b[0;34m**\u001b[0m\u001b[0mkwds\u001b[0m\u001b[0;34m)\u001b[0m\u001b[0;34m\u001b[0m\u001b[0;34m\u001b[0m\u001b[0m\n\u001b[0m\u001b[1;32m    532\u001b[0m     \u001b[0;32mif\u001b[0m \u001b[0;32mnot\u001b[0m \u001b[0misinstance\u001b[0m\u001b[0;34m(\u001b[0m\u001b[0mlayout\u001b[0m\u001b[0;34m,\u001b[0m \u001b[0mLayout\u001b[0m\u001b[0;34m)\u001b[0m\u001b[0;34m:\u001b[0m\u001b[0;34m\u001b[0m\u001b[0;34m\u001b[0m\u001b[0m\n\u001b[1;32m    533\u001b[0m         \u001b[0mlayout\u001b[0m \u001b[0;34m=\u001b[0m \u001b[0mLayout\u001b[0m\u001b[0;34m(\u001b[0m\u001b[0mlayout\u001b[0m\u001b[0;34m)\u001b[0m\u001b[0;34m\u001b[0m\u001b[0;34m\u001b[0m\u001b[0m\n",
            "\u001b[0;32m/usr/local/lib/python3.12/dist-packages/igraph/layout.py\u001b[0m in \u001b[0;36mresult\u001b[0;34m(*args, **kwds)\u001b[0m\n\u001b[1;32m    689\u001b[0m \u001b[0;34m\u001b[0m\u001b[0m\n\u001b[1;32m    690\u001b[0m     \u001b[0;32mdef\u001b[0m \u001b[0mresult\u001b[0m\u001b[0;34m(\u001b[0m\u001b[0;34m*\u001b[0m\u001b[0margs\u001b[0m\u001b[0;34m,\u001b[0m \u001b[0;34m**\u001b[0m\u001b[0mkwds\u001b[0m\u001b[0;34m)\u001b[0m\u001b[0;34m:\u001b[0m\u001b[0;34m\u001b[0m\u001b[0;34m\u001b[0m\u001b[0m\n\u001b[0;32m--> 691\u001b[0;31m         \u001b[0mlayout\u001b[0m \u001b[0;34m=\u001b[0m \u001b[0mfunc\u001b[0m\u001b[0;34m(\u001b[0m\u001b[0;34m*\u001b[0m\u001b[0margs\u001b[0m\u001b[0;34m,\u001b[0m \u001b[0;34m**\u001b[0m\u001b[0mkwds\u001b[0m\u001b[0;34m)\u001b[0m\u001b[0;34m\u001b[0m\u001b[0;34m\u001b[0m\u001b[0m\n\u001b[0m\u001b[1;32m    692\u001b[0m         \u001b[0;32mif\u001b[0m \u001b[0;32mnot\u001b[0m \u001b[0misinstance\u001b[0m\u001b[0;34m(\u001b[0m\u001b[0mlayout\u001b[0m\u001b[0;34m,\u001b[0m \u001b[0mLayout\u001b[0m\u001b[0;34m)\u001b[0m\u001b[0;34m:\u001b[0m\u001b[0;34m\u001b[0m\u001b[0;34m\u001b[0m\u001b[0m\n\u001b[1;32m    693\u001b[0m             \u001b[0mlayout\u001b[0m \u001b[0;34m=\u001b[0m \u001b[0mLayout\u001b[0m\u001b[0;34m(\u001b[0m\u001b[0mlayout\u001b[0m\u001b[0;34m)\u001b[0m\u001b[0;34m\u001b[0m\u001b[0;34m\u001b[0m\u001b[0m\n",
            "\u001b[0;31mValueError\u001b[0m: number of iterations must be positive"
          ]
        }
      ],
      "source": [
        "if __name__ == '__main__':\n",
        "    num_graphs = 14\n",
        "\n",
        "    data_list = []\n",
        "    layout_algorithms = [\"kamada_kawai\"]\n",
        "    for g in graph.values():\n",
        "        for layout_algorithm in layout_algorithms:\n",
        "            data = create_graph_data(g,layout_algorithm)\n",
        "            data_list.append(data)\n",
        "\n",
        "    batch_size = 16\n",
        "    learning_rate = 0.0000001\n",
        "    num_epochs = 15\n",
        "    num_node_features = data_list[0].x.shape[1]\n",
        "\n",
        "    def objective(trial):\n",
        "        num_layers = trial.suggest_int('num_layers', 2, 4, 8)\n",
        "        hidden_dim = trial.suggest_categorical('hidden_dim', [32, 64, 128, 256])\n",
        "        num_heads = trial.suggest_categorical('num_heads', [4, 8, 16, 32])\n",
        "\n",
        "        model = GraphLayoutEvaluator(num_node_features=num_node_features,\n",
        "                                     num_layers=num_layers,\n",
        "                                     hidden_dim=hidden_dim,\n",
        "                                     num_heads=num_heads)\n",
        "        optimizer = torch.optim.Adam(model.parameters(),\n",
        "                                      lr=learning_rate,\n",
        "                                      #betas=(beta1, beta2),\n",
        "                                      #eps=epsilon,\n",
        "                                      #weight_decay=l2_penalty,\n",
        "                                      amsgrad=False)\n",
        "        model.train()\n",
        "        loss_history = {'general':[],'crossing_loss':[],'length_loss':[],'density_loss':[],'angle_loss':[]}\n",
        "        for epoch in range(num_epochs):\n",
        "            random.shuffle(data_list)\n",
        "            epoch_loss=0\n",
        "            for i in range(0, len(data_list), batch_size):\n",
        "                batch = data_list[i:i + batch_size]\n",
        "                optimizer.zero_grad()\n",
        "\n",
        "                loss = 0.0\n",
        "                crossing_loss, length_loss, density_loss, angle_loss = 0,0,0,0\n",
        "                for data in batch:\n",
        "                    quality_score = model(data)\n",
        "                    loss += model.total_loss(data)\n",
        "                    break\n",
        "                loss /= len(batch)\n",
        "                epoch_loss+=loss\n",
        "\n",
        "                loss.backward()\n",
        "\n",
        "                torch.nn.utils.clip_grad_norm_(model.parameters(), max_norm=1.0)\n",
        "\n",
        "                optimizer.step()\n",
        "\n",
        "            # Print progress\n",
        "            print(f\"Epoch {epoch+1}, Loss: {epoch_loss.item()}\")\n",
        "            loss_history['general'].append(epoch_loss.item())\n",
        "\n",
        "        print(\"Training finished.\")\n",
        "        return loss_history['general'][-1]\n",
        "\n",
        "\n",
        "    study = optuna.create_study(direction='minimize')\n",
        "    study.optimize(objective, n_trials=32)\n",
        "\n",
        "    best_params = study.best_params\n",
        "    best_loss = study.best_value\n",
        "\n",
        "    print(f\"Best parameters: {best_params}, Best loss: {best_loss}\")"
      ]
    },
    {
      "cell_type": "code",
      "source": [],
      "metadata": {
        "id": "YZMsCq0bXKsX"
      },
      "execution_count": null,
      "outputs": []
    }
  ],
  "metadata": {
    "accelerator": "GPU",
    "colab": {
      "gpuType": "T4",
      "provenance": []
    },
    "kernelspec": {
      "display_name": "Python 3",
      "name": "python3"
    },
    "language_info": {
      "codemirror_mode": {
        "name": "ipython",
        "version": 3
      },
      "file_extension": ".py",
      "mimetype": "text/x-python",
      "name": "python",
      "nbconvert_exporter": "python",
      "pygments_lexer": "ipython3",
      "version": "3.9.7"
    }
  },
  "nbformat": 4,
  "nbformat_minor": 0
}