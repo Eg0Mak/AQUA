{
 "cells": [
  {
   "cell_type": "code",
   "execution_count": 1,
   "id": "5cebda55-970f-44ca-ba67-5da08cc239ab",
   "metadata": {},
   "outputs": [],
   "source": [
    "import pandas as pd\n",
    "import json"
   ]
  },
  {
   "cell_type": "code",
   "execution_count": 2,
   "id": "df1c45f6-a61a-4e14-8e13-f941a36e4308",
   "metadata": {},
   "outputs": [],
   "source": [
    "data = pd.read_csv('data/NL2SQL_Query_Dataset.csv')"
   ]
  },
  {
   "cell_type": "code",
   "execution_count": 25,
   "id": "2227aae4-c759-493d-a0c6-97da08e722ef",
   "metadata": {},
   "outputs": [
    {
     "data": {
      "text/html": [
       "<div>\n",
       "<style scoped>\n",
       "    .dataframe tbody tr th:only-of-type {\n",
       "        vertical-align: middle;\n",
       "    }\n",
       "\n",
       "    .dataframe tbody tr th {\n",
       "        vertical-align: top;\n",
       "    }\n",
       "\n",
       "    .dataframe thead th {\n",
       "        text-align: right;\n",
       "    }\n",
       "</style>\n",
       "<table border=\"1\" class=\"dataframe\">\n",
       "  <thead>\n",
       "    <tr style=\"text-align: right;\">\n",
       "      <th></th>\n",
       "      <th>Prompt</th>\n",
       "      <th>Query</th>\n",
       "    </tr>\n",
       "  </thead>\n",
       "  <tbody>\n",
       "    <tr>\n",
       "      <th>0</th>\n",
       "      <td>Retrieve the full names and employee IDs of ac...</td>\n",
       "      <td>SELECT full_name, employee_id FROM staff_direc...</td>\n",
       "    </tr>\n",
       "    <tr>\n",
       "      <th>1</th>\n",
       "      <td>Find assets with a specific serial number and ...</td>\n",
       "      <td>SELECT * FROM assets WHERE serial_number = 'AB...</td>\n",
       "    </tr>\n",
       "    <tr>\n",
       "      <th>2</th>\n",
       "      <td>Get all hazards created in the last week.</td>\n",
       "      <td>SELECT * FROM hazards WHERE created_at &gt;= NOW(...</td>\n",
       "    </tr>\n",
       "    <tr>\n",
       "      <th>3</th>\n",
       "      <td>Retrieve the names and order of event staff ro...</td>\n",
       "      <td>SELECT name, order FROM event_staff_roles WHER...</td>\n",
       "    </tr>\n",
       "    <tr>\n",
       "      <th>4</th>\n",
       "      <td>Find event actions performed by a specific use...</td>\n",
       "      <td>SELECT * FROM event_actions WHERE user_id = 12...</td>\n",
       "    </tr>\n",
       "    <tr>\n",
       "      <th>...</th>\n",
       "      <td>...</td>\n",
       "      <td>...</td>\n",
       "    </tr>\n",
       "    <tr>\n",
       "      <th>14810</th>\n",
       "      <td>Get all hazards whose name is \"Chemical spill\"</td>\n",
       "      <td>SELECT * FROM hazards WHERE name = 'Chemical s...</td>\n",
       "    </tr>\n",
       "    <tr>\n",
       "      <th>14811</th>\n",
       "      <td>Get all hazards that are owned by pharmacy wit...</td>\n",
       "      <td>SELECT * FROM hazards WHERE pharmacies_id = 12...</td>\n",
       "    </tr>\n",
       "    <tr>\n",
       "      <th>14812</th>\n",
       "      <td>Get all hazards that were created on 2023-01-01</td>\n",
       "      <td>SELECT * FROM hazards WHERE created_at = '2023...</td>\n",
       "    </tr>\n",
       "    <tr>\n",
       "      <th>14813</th>\n",
       "      <td>Get all hazards that were updated on 2023-02-02</td>\n",
       "      <td>SELECT * FROM hazards WHERE updated_at = '2023...</td>\n",
       "    </tr>\n",
       "    <tr>\n",
       "      <th>14814</th>\n",
       "      <td>Get all hazards that are owned by pharmacy wit...</td>\n",
       "      <td>SELECT * FROM hazards WHERE pharmacies_id = 12...</td>\n",
       "    </tr>\n",
       "  </tbody>\n",
       "</table>\n",
       "<p>14815 rows × 2 columns</p>\n",
       "</div>"
      ],
      "text/plain": [
       "                                                  Prompt  \\\n",
       "0      Retrieve the full names and employee IDs of ac...   \n",
       "1      Find assets with a specific serial number and ...   \n",
       "2              Get all hazards created in the last week.   \n",
       "3      Retrieve the names and order of event staff ro...   \n",
       "4      Find event actions performed by a specific use...   \n",
       "...                                                  ...   \n",
       "14810     Get all hazards whose name is \"Chemical spill\"   \n",
       "14811  Get all hazards that are owned by pharmacy wit...   \n",
       "14812    Get all hazards that were created on 2023-01-01   \n",
       "14813    Get all hazards that were updated on 2023-02-02   \n",
       "14814  Get all hazards that are owned by pharmacy wit...   \n",
       "\n",
       "                                                   Query  \n",
       "0      SELECT full_name, employee_id FROM staff_direc...  \n",
       "1      SELECT * FROM assets WHERE serial_number = 'AB...  \n",
       "2      SELECT * FROM hazards WHERE created_at >= NOW(...  \n",
       "3      SELECT name, order FROM event_staff_roles WHER...  \n",
       "4      SELECT * FROM event_actions WHERE user_id = 12...  \n",
       "...                                                  ...  \n",
       "14810  SELECT * FROM hazards WHERE name = 'Chemical s...  \n",
       "14811  SELECT * FROM hazards WHERE pharmacies_id = 12...  \n",
       "14812  SELECT * FROM hazards WHERE created_at = '2023...  \n",
       "14813  SELECT * FROM hazards WHERE updated_at = '2023...  \n",
       "14814  SELECT * FROM hazards WHERE pharmacies_id = 12...  \n",
       "\n",
       "[14815 rows x 2 columns]"
      ]
     },
     "execution_count": 25,
     "metadata": {},
     "output_type": "execute_result"
    }
   ],
   "source": [
    "data"
   ]
  },
  {
   "cell_type": "code",
   "execution_count": 12,
   "id": "5988810a-477f-4830-972d-4dd8baaa4d07",
   "metadata": {},
   "outputs": [],
   "source": [
    "for i in range(100):\n",
    "    with open(f'raw_queries_{100*i}_{100*i+100}.json', 'w') as f:\n",
    "        json.dump(list(data.Query)[100*i:100*i+100], f)"
   ]
  },
  {
   "cell_type": "code",
   "execution_count": null,
   "id": "6f59253d-65c4-45e6-bd92-18459c845e65",
   "metadata": {},
   "outputs": [],
   "source": []
  }
 ],
 "metadata": {
  "kernelspec": {
   "display_name": "Python 3 (ipykernel)",
   "language": "python",
   "name": "python3"
  },
  "language_info": {
   "codemirror_mode": {
    "name": "ipython",
    "version": 3
   },
   "file_extension": ".py",
   "mimetype": "text/x-python",
   "name": "python",
   "nbconvert_exporter": "python",
   "pygments_lexer": "ipython3",
   "version": "3.13.5"
  }
 },
 "nbformat": 4,
 "nbformat_minor": 5
}
