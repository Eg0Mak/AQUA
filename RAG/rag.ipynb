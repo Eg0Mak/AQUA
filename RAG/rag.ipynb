{
 "cells": [
  {
   "cell_type": "code",
   "execution_count": 2,
   "id": "595f06ac",
   "metadata": {},
   "outputs": [
    {
     "name": "stderr",
     "output_type": "stream",
     "text": [
      "/Users/egorsipilov/Documents/VScode_proj/AQUA/.venv/lib/python3.9/site-packages/urllib3/__init__.py:35: NotOpenSSLWarning: urllib3 v2 only supports OpenSSL 1.1.1+, currently the 'ssl' module is compiled with 'LibreSSL 2.8.3'. See: https://github.com/urllib3/urllib3/issues/3020\n",
      "  warnings.warn(\n",
      "/Users/egorsipilov/Documents/VScode_proj/AQUA/.venv/lib/python3.9/site-packages/tqdm/auto.py:21: TqdmWarning: IProgress not found. Please update jupyter and ipywidgets. See https://ipywidgets.readthedocs.io/en/stable/user_install.html\n",
      "  from .autonotebook import tqdm as notebook_tqdm\n"
     ]
    }
   ],
   "source": [
    "import os\n",
    "import csv\n",
    "from PyPDF2 import PdfReader\n",
    "from langchain.text_splitter import RecursiveCharacterTextSplitter\n",
    "from langchain.schema import Document\n",
    "from huggingface_hub import hf_hub_download\n",
    "import onnxruntime as ort\n",
    "from transformers import AutoTokenizer\n",
    "import numpy as np\n",
    "import faiss\n",
    "import numpy as np"
   ]
  },
  {
   "cell_type": "code",
   "execution_count": 3,
   "id": "48ec37f7",
   "metadata": {},
   "outputs": [
    {
     "name": "stdout",
     "output_type": "stream",
     "text": [
      "Загружено документов: 335919\n"
     ]
    }
   ],
   "source": [
    "path_to_pdf = \"data/pdf\"\n",
    "path_to_csv = \"data/csv\"\n",
    "\n",
    "def read_pdf(pdf_folder):\n",
    "    docs = []\n",
    "    for file in os.listdir(pdf_folder):\n",
    "        if file.endswith(\".pdf\"):\n",
    "            path = os.path.join(pdf_folder, file)\n",
    "            reader = PdfReader(path)\n",
    "            for i, page in enumerate(reader.pages):\n",
    "                text = page.extract_text()\n",
    "                if text:\n",
    "                    docs.append(\n",
    "                        Document(\n",
    "                            page_content=text,\n",
    "                            metadata={\"source\": file, \"page\": i + 1}\n",
    "                        )\n",
    "                    )\n",
    "    return docs\n",
    "\n",
    "\n",
    "def read_csv(csv_folder):\n",
    "    docs = []\n",
    "    for file in os.listdir(csv_folder):\n",
    "        if file.endswith(\".csv\"):\n",
    "            path = os.path.join(csv_folder, file)\n",
    "            with open(path, \"r\", encoding=\"utf-8\", errors=\"ignore\") as f:\n",
    "                reader = csv.reader(f)\n",
    "                header = next(reader, None)  # первая строка (заголовки)\n",
    "                for i, row in enumerate(reader):\n",
    "                    # собираем строку вида \"col1: val1, col2: val2, ...\"\n",
    "                    if header:\n",
    "                        text = \", \".join([f\"{col}: {val}\" for col, val in zip(header, row)])\n",
    "                    else:\n",
    "                        text = \", \".join(row)\n",
    "                    docs.append(\n",
    "                        Document(\n",
    "                            page_content=text,\n",
    "                            metadata={\"source\": file, \"row\": i + 1}\n",
    "                        )\n",
    "                    )\n",
    "    return docs\n",
    "\n",
    "\n",
    "# Load all documents\n",
    "all_docs = read_pdf(path_to_pdf) + read_csv(path_to_csv)\n",
    "print(f\"Загружено документов: {len(all_docs)}\")\n",
    "\n",
    "# Split on chunks with saving the metadata\n",
    "splitter = RecursiveCharacterTextSplitter(chunk_size=500, chunk_overlap=50)\n",
    "chunked_docs = splitter.split_documents(all_docs)"
   ]
  },
  {
   "cell_type": "code",
   "execution_count": 1,
   "id": "59d7cba5",
   "metadata": {},
   "outputs": [
    {
     "ename": "NameError",
     "evalue": "name 'hf_hub_download' is not defined",
     "output_type": "error",
     "traceback": [
      "\u001b[0;31m---------------------------------------------------------------------------\u001b[0m",
      "\u001b[0;31mNameError\u001b[0m                                 Traceback (most recent call last)",
      "Cell \u001b[0;32mIn[1], line 2\u001b[0m\n\u001b[1;32m      1\u001b[0m model_id \u001b[38;5;241m=\u001b[39m \u001b[38;5;124m\"\u001b[39m\u001b[38;5;124monnx-models/all-MiniLM-L6-v2-onnx\u001b[39m\u001b[38;5;124m\"\u001b[39m\n\u001b[0;32m----> 2\u001b[0m model_path \u001b[38;5;241m=\u001b[39m \u001b[43mhf_hub_download\u001b[49m(model_id, filename\u001b[38;5;241m=\u001b[39m\u001b[38;5;124m\"\u001b[39m\u001b[38;5;124mmodel.onnx\u001b[39m\u001b[38;5;124m\"\u001b[39m)\n\u001b[1;32m      3\u001b[0m session \u001b[38;5;241m=\u001b[39m ort\u001b[38;5;241m.\u001b[39mInferenceSession(model_path)\n\u001b[1;32m      4\u001b[0m tokenizer \u001b[38;5;241m=\u001b[39m AutoTokenizer\u001b[38;5;241m.\u001b[39mfrom_pretrained(model_id)\n",
      "\u001b[0;31mNameError\u001b[0m: name 'hf_hub_download' is not defined"
     ]
    }
   ],
   "source": [
    "model_id = \"onnx-models/all-MiniLM-L6-v2-onnx\"\n",
    "model_path = hf_hub_download(model_id, filename=\"model.onnx\")\n",
    "session = ort.InferenceSession(model_path)\n",
    "tokenizer = AutoTokenizer.from_pretrained(model_id)\n",
    "\n",
    "def get_embeddings(documents, tokenizer, session):\n",
    "    embeddings, texts, metas = [], [], []\n",
    "    for doc in documents:\n",
    "        inputs = tokenizer(doc.page_content, return_tensors=\"np\",\n",
    "                           padding=True, truncation=True, max_length=512)\n",
    "        ort_inputs = {\"input_ids\": inputs[\"input_ids\"],\n",
    "                      \"attention_mask\": inputs[\"attention_mask\"],\n",
    "                      \"token_type_ids\": inputs.get(\"token_type_ids\")\n",
    "                      }\n",
    "        outputs = session.run(None, ort_inputs)\n",
    "        embedding = outputs[0][0].astype(\"float32\")\n",
    "\n",
    "        embeddings.append(embedding)\n",
    "        texts.append(doc.page_content)\n",
    "        metas.append(doc.metadata)\n",
    "    return np.array(embeddings), texts, metas\n",
    "\n",
    "emb_matrix, texts, metas = get_embeddings(chunked_docs, tokenizer, session)\n",
    "print(f\"Создано эмбеддингов: {len(emb_matrix)}\")"
   ]
  },
  {
   "cell_type": "code",
   "execution_count": null,
   "id": "820deffa",
   "metadata": {},
   "outputs": [],
   "source": [
    "index = faiss.IndexFlatL2(emb_matrix.shape[1])\n",
    "index.add(emb_matrix)\n",
    "print(\"Размер индекса:\", index.ntotal)\n",
    "\n",
    "def search(query, tokenizer, session, index, texts, metas, top_k=5):\n",
    "    inputs = tokenizer(query, return_tensors=\"np\", padding=True, truncation=True)\n",
    "    ort_inputs = {\"input_ids\": inputs[\"input_ids\"],\n",
    "                  \"attention_mask\": inputs[\"attention_mask\"]}\n",
    "    query_emb = session.run(None, ort_inputs)[0][0].astype(\"float32\")\n",
    "\n",
    "    distances, indices = index.search(np.array([query_emb]), top_k)\n",
    "    results = [{\"text\": texts[i], \"metadata\": metas[i]} for i in indices[0]]\n",
    "    return results"
   ]
  }
 ],
 "metadata": {
  "kernelspec": {
   "display_name": ".venv",
   "language": "python",
   "name": "python3"
  },
  "language_info": {
   "codemirror_mode": {
    "name": "ipython",
    "version": 3
   },
   "file_extension": ".py",
   "mimetype": "text/x-python",
   "name": "python",
   "nbconvert_exporter": "python",
   "pygments_lexer": "ipython3",
   "version": "3.9.6"
  }
 },
 "nbformat": 4,
 "nbformat_minor": 5
}
