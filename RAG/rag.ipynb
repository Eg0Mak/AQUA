{
 "cells": [
  {
   "cell_type": "code",
   "execution_count": 1,
   "id": "595f06ac",
   "metadata": {},
   "outputs": [
    {
     "name": "stderr",
     "output_type": "stream",
     "text": [
      "/Users/egorsipilov/Documents/VScode_proj/AQUA/.venv/lib/python3.9/site-packages/urllib3/__init__.py:35: NotOpenSSLWarning: urllib3 v2 only supports OpenSSL 1.1.1+, currently the 'ssl' module is compiled with 'LibreSSL 2.8.3'. See: https://github.com/urllib3/urllib3/issues/3020\n",
      "  warnings.warn(\n",
      "/Users/egorsipilov/Documents/VScode_proj/AQUA/.venv/lib/python3.9/site-packages/tqdm/auto.py:21: TqdmWarning: IProgress not found. Please update jupyter and ipywidgets. See https://ipywidgets.readthedocs.io/en/stable/user_install.html\n",
      "  from .autonotebook import tqdm as notebook_tqdm\n"
     ]
    }
   ],
   "source": [
    "import os\n",
    "import csv\n",
    "from PyPDF2 import PdfReader\n",
    "from langchain.text_splitter import RecursiveCharacterTextSplitter\n",
    "from langchain.schema import Document\n",
    "from huggingface_hub import hf_hub_download\n",
    "import onnxruntime as ort\n",
    "from transformers import AutoTokenizer\n",
    "import numpy as np\n",
    "import faiss\n",
    "import numpy as np\n",
    "from sentence_transformers import SentenceTransformer"
   ]
  },
  {
   "cell_type": "code",
   "execution_count": null,
   "id": "dc7a878f",
   "metadata": {},
   "outputs": [],
   "source": []
  },
  {
   "cell_type": "code",
   "execution_count": 2,
   "id": "48ec37f7",
   "metadata": {},
   "outputs": [
    {
     "name": "stdout",
     "output_type": "stream",
     "text": [
      "Загружено документов: 335919\n"
     ]
    }
   ],
   "source": [
    "path_to_pdf = \"data/pdf\"\n",
    "path_to_csv = \"data/csv\"\n",
    "\n",
    "def read_pdf(pdf_folder):\n",
    "    docs = []\n",
    "    for file in os.listdir(pdf_folder):\n",
    "        if file.endswith(\".pdf\"):\n",
    "            path = os.path.join(pdf_folder, file)\n",
    "            reader = PdfReader(path)\n",
    "            for i, page in enumerate(reader.pages):\n",
    "                text = page.extract_text()\n",
    "                if text:\n",
    "                    docs.append(\n",
    "                        Document(\n",
    "                            page_content=text,\n",
    "                            metadata={\"source\": file, \"page\": i + 1}\n",
    "                        )\n",
    "                    )\n",
    "    return docs\n",
    "\n",
    "\n",
    "def read_csv(csv_folder):\n",
    "    docs = []\n",
    "    for file in os.listdir(csv_folder):\n",
    "        if file.endswith(\".csv\"):\n",
    "            path = os.path.join(csv_folder, file)\n",
    "            with open(path, \"r\", encoding=\"utf-8\", errors=\"ignore\") as f:\n",
    "                reader = csv.reader(f)\n",
    "                header = next(reader, None)  # первая строка (заголовки)\n",
    "                for i, row in enumerate(reader):\n",
    "                    # собираем строку вида \"col1: val1, col2: val2, ...\"\n",
    "                    if header:\n",
    "                        text = \", \".join([f\"{col}: {val}\" for col, val in zip(header, row)])\n",
    "                    else:\n",
    "                        text = \", \".join(row)\n",
    "                    docs.append(\n",
    "                        Document(\n",
    "                            page_content=text,\n",
    "                            metadata={\"source\": file, \"row\": i + 1}\n",
    "                        )\n",
    "                    )\n",
    "    return docs\n",
    "\n",
    "\n",
    "# Load all documents\n",
    "all_docs = read_pdf(path_to_pdf) + read_csv(path_to_csv)\n",
    "print(f\"Загружено документов: {len(all_docs)}\")\n",
    "\n",
    "# Split on chunks with saving the metadata\n",
    "splitter = RecursiveCharacterTextSplitter(chunk_size=500, chunk_overlap=50)\n",
    "chunked_docs = splitter.split_documents(all_docs)"
   ]
  },
  {
   "cell_type": "code",
   "execution_count": 16,
   "id": "377e06ee",
   "metadata": {},
   "outputs": [],
   "source": [
    "def generate_embeddings(docs, model_name=\"sentence-transformers/all-MiniLM-L6-v2\", batch_size=256):\n",
    "    model = SentenceTransformer(model_name)\n",
    "\n",
    "    texts = [doc.page_content for doc in docs]\n",
    "    metas = [doc.metadata for doc in docs]\n",
    "\n",
    "    for start in range(0, len(texts), batch_size):\n",
    "        batch_texts = texts[start:start+batch_size]\n",
    "        batch_metas = metas[start:start+batch_size]\n",
    "\n",
    "        batch_embeddings = model.encode(\n",
    "            batch_texts,\n",
    "            batch_size=batch_size,\n",
    "            convert_to_numpy=True,\n",
    "            show_progress_bar=False\n",
    "        )\n",
    "\n",
    "        # Возвращаем пачку как генератор\n",
    "        for i, emb in enumerate(batch_embeddings):\n",
    "            yield {\n",
    "                \"embedding\": emb,\n",
    "                \"content\": batch_texts[i],\n",
    "                \"metadata\": batch_metas[i]\n",
    "            }"
   ]
  },
  {
   "cell_type": "code",
   "execution_count": 18,
   "id": "33fe6628",
   "metadata": {},
   "outputs": [
    {
     "name": "stdout",
     "output_type": "stream",
     "text": [
      "Добавлено 524603 эмбеддингов в индекс\n",
      "Размер индекса: 524604\n"
     ]
    }
   ],
   "source": [
    "# Создаём FAISS-индекс\n",
    "model = SentenceTransformer(\"sentence-transformers/all-MiniLM-L6-v2\")\n",
    "d = model.get_sentence_embedding_dimension()\n",
    "index = faiss.IndexFlatL2(d)\n",
    "\n",
    "texts, metas = [], []\n",
    "\n",
    "# Генеративная обработка\n",
    "for i, item in enumerate(generate_embeddings(chunked_docs, batch_size=256)):\n",
    "    index.add(np.array([item[\"embedding\"]], dtype=\"float32\"))\n",
    "    texts.append(item[\"content\"])\n",
    "    metas.append(item[\"metadata\"])\n",
    "\n",
    "else:\n",
    "    print(f\"Добавлено {i} эмбеддингов в индекс\")\n",
    "\n",
    "print(\"Размер индекса:\", index.ntotal)"
   ]
  },
  {
   "cell_type": "code",
   "execution_count": 19,
   "id": "44df8a0a",
   "metadata": {},
   "outputs": [],
   "source": [
    "# Поиск релевантых документов\n",
    "def search(query, model, index, texts, metas, top_k=5):\n",
    "    query_emb = model.encode([query], convert_to_numpy=True).astype(\"float32\")\n",
    "    distances, indices = index.search(query_emb, top_k)\n",
    "    return [\n",
    "        {\"text\": texts[i], \"metadata\": metas[i], \"distance\": float(distances[0][j])}\n",
    "        for j, i in enumerate(indices[0])\n",
    "    ]\n"
   ]
  },
  {
   "cell_type": "code",
   "execution_count": 20,
   "id": "f07cd7a9",
   "metadata": {},
   "outputs": [],
   "source": [
    "def build_prompt(query, retrieved_docs):\n",
    "    context = \"\\n\\n\".join([doc[\"text\"] for doc in retrieved_docs])\n",
    "    \n",
    "    prompt = f\"\"\"\n",
    "You are an expert in SQL query optimization. \n",
    "Always use the retrieved context to improve SQL queries. \n",
    "\n",
    "Context may include: \n",
    "- Database schemas, table structures \n",
    "- Existing indexes and constraints \n",
    "- Query execution plans or performance notes \n",
    "\n",
    "Your responsibilities:\n",
    "1. Analyze the original SQL query provided by the user.\n",
    "2. Use the retrieved context to suggest the best possible optimization.\n",
    "3. Output the optimized SQL query in a code block.\n",
    "4. Explain why this query is more efficient, referencing the context when relevant.\n",
    "5. If multiple optimization strategies are possible, pick the best one and briefly mention alternatives.\n",
    "6. Ensure the optimized query always produces the same results as the original.\n",
    "\n",
    "Format your answer strictly as follows:\n",
    "\n",
    "**Optimized Query:**\n",
    "```sql\n",
    "-- optimized SQL here\n",
    "\n",
    "Question: {query} \\n\n",
    "Context: {context}\n",
    "\n",
    "\"\"\"\n",
    "    return prompt\n"
   ]
  },
  {
   "cell_type": "code",
   "execution_count": null,
   "id": "81e50cc7",
   "metadata": {},
   "outputs": [
    {
     "name": "stdout",
     "output_type": "stream",
     "text": [
      "  \u001b[2m2025-09-21T20:45:39.096853Z\u001b[0m \u001b[31mERROR\u001b[0m  \u001b[31merror invoking get_reconstruction api, error: ReqwestMiddlewareError(Middleware(couldn't get token: TokenRefreshFailure(\"Error refreshing token: PyErr { type: <class 'requests.exceptions.ConnectionError'>, value: ConnectionError(ProtocolError('Connection aborted.', TimeoutError(60, 'Operation timed out')), '(Request ID: 2833a55e-94c4-4efa-9513-37b03b9c0292)'), traceback: Some(<traceback object at 0x3143dc280>) }\"))), \u001b[1;31mcaller\u001b[0m\u001b[31m: \"/Users/runner/work/xet-core/xet-core/cas_client/src/http_client.rs:329\"\u001b[0m\n",
      "    \u001b[2;3mat\u001b[0m /Users/runner/work/xet-core/xet-core/error_printer/src/lib.rs:28\n",
      "\n",
      "  \u001b[2m2025-09-21T20:45:49.974798Z\u001b[0m \u001b[31mERROR\u001b[0m  \u001b[31mFatal Error: \"s3::get_range\" api call failed (request id , retry 2): HTTP status client error (403 Forbidden) for url (https://transfer.xethub.hf.co/xorbs/default/259ed03c459a334855ff03650ea9d5c64a83d4519ec9f190b82524a67f76fdb7?X-Xet-Signed-Range=bytes%3D0-67097194&X-Xet-Session-Id=01K5PRHP0ZYMAHDZTEKXWPN750&Expires=1758482909&Policy=eyJTdGF0ZW1lbnQiOlt7IlJlc291cmNlIjoiaHR0cHM6Ly90cmFuc2Zlci54ZXRodWIuaGYuY28veG9yYnMvZGVmYXVsdC8yNTllZDAzYzQ1OWEzMzQ4NTVmZjAzNjUwZWE5ZDVjNjRhODNkNDUxOWVjOWYxOTBiODI1MjRhNjdmNzZmZGI3P1gtWGV0LVNpZ25lZC1SYW5nZT1ieXRlcyUzRDAtNjcwOTcxOTQmWC1YZXQtU2Vzc2lvbi1JZD0wMUs1UFJIUDBaWU1BSERaVEVLWFdQTjc1MCIsIkNvbmRpdGlvbiI6eyJEYXRlTGVzc1RoYW4iOnsiQVdTOkVwb2NoVGltZSI6MTc1ODQ4MjkwOX19fV19&Signature=oc0nL~xWAk5L7xJozdqVWI5itZSX~RrR8l5CUYO-qR~pwu0fK8R60eX0yD4xvRcJv-gPJFZPNINsSFWs3j-UKzV8F-J9ia57ujJ~koY2vSrYiIyQcdlNgKG9t43LVRUN6mSTEEZw7f1uiqTZ1LIXmy7tZ22M04givj0-1Yh8xAgeYNp0swi3AeNfxoJcw~~rDtmYOzfSOlacvFXMBbHHe5tdHu4WWLaqaKXQeuClKiTIO~XLdzrVWrHxRv-hNeOXSLhN~PuyngRR5t-alMZtu7RcipGVPxcrLeTifFxMZBZzMpEnJiPzQZnj0BvuXq~te16gtNkmf64Wb4NxUdINmw__&Key-Pair-Id=K2L8F4GPSG1IFC)\u001b[0m\n",
      "    \u001b[2;3mat\u001b[0m /Users/runner/work/xet-core/xet-core/cas_client/src/retry_wrapper.rs:113\n",
      "\n",
      "  \u001b[2m2025-09-21T21:01:28.955082Z\u001b[0m \u001b[31mERROR\u001b[0m  \u001b[31mFatal Error: \"s3::get_range\" api call failed (request id , retry 2): HTTP status client error (403 Forbidden) for url (https://transfer.xethub.hf.co/xorbs/default/0e1c56c06ac032746199a41ec264a8ecd95d9c5f77d9bddcffa08e8c2d1d806f?X-Xet-Signed-Range=bytes%3D0-67062899&X-Xet-Session-Id=01K5PRHP2086AG8Z4HE12PXMHZ&Expires=1758482909&Policy=eyJTdGF0ZW1lbnQiOlt7IlJlc291cmNlIjoiaHR0cHM6Ly90cmFuc2Zlci54ZXRodWIuaGYuY28veG9yYnMvZGVmYXVsdC8wZTFjNTZjMDZhYzAzMjc0NjE5OWE0MWVjMjY0YThlY2Q5NWQ5YzVmNzdkOWJkZGNmZmEwOGU4YzJkMWQ4MDZmP1gtWGV0LVNpZ25lZC1SYW5nZT1ieXRlcyUzRDAtNjcwNjI4OTkmWC1YZXQtU2Vzc2lvbi1JZD0wMUs1UFJIUDIwODZBRzhaNEhFMTJQWE1IWiIsIkNvbmRpdGlvbiI6eyJEYXRlTGVzc1RoYW4iOnsiQVdTOkVwb2NoVGltZSI6MTc1ODQ4MjkwOX19fV19&Signature=pj1v3MH1nRFG2yLMzHjmo5Xr5j8IFW~rsMWPrRCAorWqNj-TUQtieLmx-2OHNeDvsTbOpwp5ScyPaN~FQORl7ajYVENLY1OUNbTEnv9T5UC5y7MD2tCphRUEnFia3sjR3n21oSTHzuGolGY5HntH4NXeihI18z8n-w6v7Owgm71-VzI7la7a48M1D4z1Tu09w59mDeoBKrI-qry2hQQb0KbcVGRynA5Bphih~LlZdWKHbkDfmeRPKuEeQy~exe5G6Xr~lFF5Vh0DhmnjTloX8h8-ilSzLs0DY9n977g1ROaA8CC-1kn5erreu5EUrTd~eanDbfN0USPIaQxcLtEF0Q__&Key-Pair-Id=K2L8F4GPSG1IFC)\u001b[0m\n",
      "    \u001b[2;3mat\u001b[0m /Users/runner/work/xet-core/xet-core/cas_client/src/retry_wrapper.rs:113\n",
      "\n",
      "  \u001b[2m2025-09-21T21:03:47.345431Z\u001b[0m \u001b[31mERROR\u001b[0m  \u001b[31mFatal Error: \"s3::get_range\" api call failed (request id , retry 2): HTTP status client error (403 Forbidden) for url (https://transfer.xethub.hf.co/xorbs/default/674a8c67026087c29763e9fa179a897fb34629322e4a2265fb82195ce91944d4?X-Xet-Signed-Range=bytes%3D0-67045722&X-Xet-Session-Id=01K5PRHP26XB129PWDX4W63Y7X&Expires=1758484214&Policy=eyJTdGF0ZW1lbnQiOlt7IlJlc291cmNlIjoiaHR0cHM6Ly90cmFuc2Zlci54ZXRodWIuaGYuY28veG9yYnMvZGVmYXVsdC82NzRhOGM2NzAyNjA4N2MyOTc2M2U5ZmExNzlhODk3ZmIzNDYyOTMyMmU0YTIyNjVmYjgyMTk1Y2U5MTk0NGQ0P1gtWGV0LVNpZ25lZC1SYW5nZT1ieXRlcyUzRDAtNjcwNDU3MjImWC1YZXQtU2Vzc2lvbi1JZD0wMUs1UFJIUDI2WEIxMjlQV0RYNFc2M1k3WCIsIkNvbmRpdGlvbiI6eyJEYXRlTGVzc1RoYW4iOnsiQVdTOkVwb2NoVGltZSI6MTc1ODQ4NDIxNH19fV19&Signature=GxJKQDkkKmHTeE5uUdbUg5L5Wj9z26yukmtpdS1q7vv-6-6eIOiKl5YISKyQSkPsy7DbuT9y7GV5zRsVZN8akPpnqentV9ASwImVMQqtWK8CYBwL1Un779tpgTNB0ZP9XHF1kQDAcW7KLCepv4txTAH8RwAKQp740p7Z0eA~oRrSxKqbngLb2KhTPl3QwPf7~qkmS0QURbt67RMWWV0BHNlqmE6yI89REpFQEiqNp0JDMvMa~BPq22O8lhVRE8NHE~oRjJGslLstz4M0XG8Qe8iQS39BFkwXq4mCtYn-V1xiKlhM-8KZoR3CsxAd1gcg2mazSicdAwqkJjgj3XdLkw__&Key-Pair-Id=K2L8F4GPSG1IFC)\u001b[0m\n",
      "    \u001b[2;3mat\u001b[0m /Users/runner/work/xet-core/xet-core/cas_client/src/retry_wrapper.rs:113\n",
      "\n",
      "  \u001b[2m2025-09-21T21:03:53.897251Z\u001b[0m \u001b[31mERROR\u001b[0m  \u001b[31merror invoking get_reconstruction api, error: ReqwestMiddlewareError(Middleware(couldn't get token: TokenRefreshFailure(\"Error refreshing token: PyErr { type: <class 'requests.exceptions.ConnectionError'>, value: ConnectionError(ProtocolError('Connection aborted.', ConnectionResetError(54, 'Connection reset by peer')), '(Request ID: c03e1a13-cbab-4444-9dd9-aac220fea408)'), traceback: Some(<traceback object at 0x313d553c0>) }\"))), \u001b[1;31mcaller\u001b[0m\u001b[31m: \"/Users/runner/work/xet-core/xet-core/cas_client/src/http_client.rs:329\"\u001b[0m\n",
      "    \u001b[2;3mat\u001b[0m /Users/runner/work/xet-core/xet-core/error_printer/src/lib.rs:28\n",
      "\n",
      "  \u001b[2m2025-09-21T21:05:29.220192Z\u001b[0m \u001b[31mERROR\u001b[0m  \u001b[31mFatal Error: \"s3::get_range\" api call failed (request id , retry 2): HTTP status client error (403 Forbidden) for url (https://transfer.xethub.hf.co/xorbs/default/e5489bbb9ccc0d9d287f1e89a3d7bcf941068c89fb2ed094221ed3b6d84fd544?X-Xet-Signed-Range=bytes%3D0-67068106&X-Xet-Session-Id=01K5PRHP0ZYMAHDZTEKXWPN750&Expires=1758485671&Policy=eyJTdGF0ZW1lbnQiOlt7IlJlc291cmNlIjoiaHR0cHM6Ly90cmFuc2Zlci54ZXRodWIuaGYuY28veG9yYnMvZGVmYXVsdC9lNTQ4OWJiYjljY2MwZDlkMjg3ZjFlODlhM2Q3YmNmOTQxMDY4Yzg5ZmIyZWQwOTQyMjFlZDNiNmQ4NGZkNTQ0P1gtWGV0LVNpZ25lZC1SYW5nZT1ieXRlcyUzRDAtNjcwNjgxMDYmWC1YZXQtU2Vzc2lvbi1JZD0wMUs1UFJIUDBaWU1BSERaVEVLWFdQTjc1MCIsIkNvbmRpdGlvbiI6eyJEYXRlTGVzc1RoYW4iOnsiQVdTOkVwb2NoVGltZSI6MTc1ODQ4NTY3MX19fV19&Signature=K~weGJNWu2s02uQkO91gJqy~pjrFesWcpCR4-N84P7SEX2BcjM7XjOeBx3hJmRcdCt3UMCjC5OSQ9tMXgqhFotns5T~kDOzxJFFbx8uS25Pn85hys9C4dYL5e0Cg0uh7hb8geboO9s1lDxCtiQiaUxjv1iD4DN9RWfVXWGZhOqPlssyA4VtkjUQtNxbaGDFsy8d-oFskpA4wuNQA3s4wBcj5UdeU-IAoQV6iEpw~6LrG9zLx7wsEsbl1v4EIe3HrCr78HAB69kQ3MluBsMwQkUNqOhdkBlr0ikD3dVdnsm6gJKiJfgS-aqD93K7C~hW6cXLD3b0VUjIiJzxO~CsEcQ__&Key-Pair-Id=K2L8F4GPSG1IFC)\u001b[0m\n",
      "    \u001b[2;3mat\u001b[0m /Users/runner/work/xet-core/xet-core/cas_client/src/retry_wrapper.rs:113\n",
      "\n",
      "  \u001b[2m2025-09-21T21:06:23.338752Z\u001b[0m \u001b[31mERROR\u001b[0m  \u001b[31mFatal Error: \"s3::get_range\" api call failed (request id , retry 2): HTTP status client error (403 Forbidden) for url (https://transfer.xethub.hf.co/xorbs/default/598fc6bde5abb53646f0c422a9d00917c665ab361451d72d7a2d854a8b73e001?X-Xet-Signed-Range=bytes%3D0-67007892&X-Xet-Session-Id=01K5PRHP2086AG8Z4HE12PXMHZ&Expires=1758482910&Policy=eyJTdGF0ZW1lbnQiOlt7IlJlc291cmNlIjoiaHR0cHM6Ly90cmFuc2Zlci54ZXRodWIuaGYuY28veG9yYnMvZGVmYXVsdC81OThmYzZiZGU1YWJiNTM2NDZmMGM0MjJhOWQwMDkxN2M2NjVhYjM2MTQ1MWQ3MmQ3YTJkODU0YThiNzNlMDAxP1gtWGV0LVNpZ25lZC1SYW5nZT1ieXRlcyUzRDAtNjcwMDc4OTImWC1YZXQtU2Vzc2lvbi1JZD0wMUs1UFJIUDIwODZBRzhaNEhFMTJQWE1IWiIsIkNvbmRpdGlvbiI6eyJEYXRlTGVzc1RoYW4iOnsiQVdTOkVwb2NoVGltZSI6MTc1ODQ4MjkxMH19fV19&Signature=ILvagWqtsIVTZqr9fVEgaLpfAGp9zpZxWpnglEdDwL2PMJGeICNAtxdwJbxNR78gYXLwZW5~hjgky-8jMb0zui87BhLjLLrn1J6DhCxUfiRzPEYy8l6HKsbRcrcBjt~-mpVYtrbASuTgi-8bVaQUy38dT6zLSH4Cw80Hla9wyqvsDpj3JqMyqnV8FhvZqx3baMjZyIuX0j7frcpw5FJlKKF5YyVeHoMZZdKqqlyBxixZJ1uetvcCq2-UGCKesQnxJyKC~UjNCcoKPj~w0NWVommnm4-yU~zHK3iSgjKUu3w0PkEEO4HL3-RKU4ySrTzYgcdz1uLHT9sB13lQiL01ng__&Key-Pair-Id=K2L8F4GPSG1IFC)\u001b[0m\n",
      "    \u001b[2;3mat\u001b[0m /Users/runner/work/xet-core/xet-core/cas_client/src/retry_wrapper.rs:113\n",
      "\n"
     ]
    }
   ],
   "source": [
    "# Load model directly\n",
    "from transformers import AutoTokenizer, AutoModelForCausalLM\n",
    "\n",
    "tokenizer = AutoTokenizer.from_pretrained(\"codeparrot/codeparrot\")\n",
    "model = AutoModelForCausalLM.from_pretrained(\"codeparrot/codeparrot\")"
   ]
  },
  {
   "cell_type": "code",
   "execution_count": null,
   "id": "692de55b",
   "metadata": {},
   "outputs": [],
   "source": [
    "def generate_answer(query, retrieved_docs):\n",
    "    prompt = build_prompt(query, retrieved_docs)\n",
    "\n",
    "    # Токенизируем входные данные\n",
    "    inputs = tokenizer(prompt, return_tensors=\"pt\").to(model.device)\n",
    "    \n",
    "    outputs = model.generate(**inputs, max_new_tokens=300)\n",
    "    \n",
    "    # Декодируем и возвращаем результат\n",
    "    return tokenizer.decode(outputs[0], skip_special_tokens=True)\n"
   ]
  },
  {
   "cell_type": "code",
   "execution_count": null,
   "id": "8a5e45f7",
   "metadata": {},
   "outputs": [],
   "source": [
    "query = \"Что такое машинное обучение?\"\n",
    "retrieved = search(query, model, index, texts, metas, top_k=5)\n",
    "answer = generate_answer(query, retrieved)\n",
    "\n",
    "print(\"Ответ:\", answer)\n"
   ]
  }
 ],
 "metadata": {
  "kernelspec": {
   "display_name": ".venv",
   "language": "python",
   "name": "python3"
  },
  "language_info": {
   "codemirror_mode": {
    "name": "ipython",
    "version": 3
   },
   "file_extension": ".py",
   "mimetype": "text/x-python",
   "name": "python",
   "nbconvert_exporter": "python",
   "pygments_lexer": "ipython3",
   "version": "3.9.6"
  }
 },
 "nbformat": 4,
 "nbformat_minor": 5
}
